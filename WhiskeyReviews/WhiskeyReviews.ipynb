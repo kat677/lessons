{
  "cells": [
    {
      "cell_type": "markdown",
      "source": [
        "# Whisky Advocate\n",
        "## *Insights from Reviews*\n",
        "\n",
        "What makes a great whiskey? It is a smoky flavor? It is peaty? Is it something else?\n",
        "\n",
        "There isn't a single truth of a great whisky, because tastes vary so much from person to person. However, we can analyze the reviews of experts to see if we can detect patterns in the flavor profiles of 'great' whiskys.\n",
        "\n",
        "Today, you'll see the following things operationalized in python to study great whiskys:\n",
        "* [Web Scraping](#web)\n",
        "* [Data Exploration](#explore)\n",
        "* [Machine Learning](#ml)\n",
        "* [Data Visualization](#viz)\n"
      ],
      "metadata": {}
    },
    {
      "cell_type": "markdown",
      "source": [
        "<a id=\"web\"></a>\n",
        "## Web Scraping\n",
        "To gather our review data to understand great whiskeys, we will *scrape* [Whisky Advocate's](http://whiskeyadvocate.com) over 4,00 reviews. We will use python to access the reviews on the web and extract the relevant information from directly from the site's `html`."
      ],
      "metadata": {
        "collapsed": false,
        "outputHidden": false,
        "inputHidden": false
      }
    },
    {
      "cell_type": "code",
      "source": [
        "import pandas as pd\n",
        "import requests\n",
        "from bs4 import BeautifulSoup"
      ],
      "outputs": [],
      "execution_count": 1,
      "metadata": {
        "collapsed": false,
        "outputHidden": false,
        "inputHidden": false
      }
    },
    {
      "cell_type": "code",
      "source": [
        "score_range = ['95-100', '90-94', '80-89', '70-79', '60-69']"
      ],
      "outputs": [],
      "execution_count": 2,
      "metadata": {
        "collapsed": false,
        "outputHidden": false,
        "inputHidden": false
      }
    },
    {
      "cell_type": "code",
      "source": [
        "url = \"http://whiskyadvocate.com/ratings-reviews/?search=&submit=&brand_id=0&rating={}&price=0&category=0&styles_id=0&issue_id=0\""
      ],
      "outputs": [],
      "execution_count": 3,
      "metadata": {
        "collapsed": false,
        "outputHidden": false,
        "inputHidden": false
      }
    },
    {
      "cell_type": "code",
      "source": [
        "urls = [url.format(score) for score in score_range]"
      ],
      "outputs": [],
      "execution_count": 4,
      "metadata": {
        "collapsed": false,
        "outputHidden": false,
        "inputHidden": false
      }
    },
    {
      "cell_type": "code",
      "source": [
        "tags = ['ratingValue', 'name', 'category', 'priceCurrency', \n",
        " 'price', 'description', 'author']\n",
        "\n",
        "def get_review(review):\n",
        "    data = {}\n",
        "    for t in tags:\n",
        "        data[t] = review.find(itemprop=t).text\n",
        "\n",
        "    return data\n",
        "\n",
        "def whiskey(urls):\n",
        "    \n",
        "    whiskey_reviews = list()\n",
        "    \n",
        "    for u in urls:\n",
        "        r = requests.get(u)\n",
        "        \n",
        "        soup = BeautifulSoup(r.text, \"lxml\")\n",
        "        ratings = soup.find(class_=\"ratings-grid-holder\")\n",
        "        \n",
        "        ratings = ratings.find_all(\"article\")\n",
        "        \n",
        "        reviews = [get_review(r) for r in ratings]\n",
        "        \n",
        "        whiskey_reviews += reviews\n",
        "    \n",
        "    return whiskey_reviews"
      ],
      "outputs": [],
      "execution_count": 5,
      "metadata": {
        "collapsed": false,
        "outputHidden": false,
        "inputHidden": false
      }
    },
    {
      "cell_type": "code",
      "source": [
        "data = whiskey(urls)"
      ],
      "outputs": [],
      "execution_count": 6,
      "metadata": {
        "collapsed": false,
        "outputHidden": false,
        "inputHidden": false
      }
    },
    {
      "cell_type": "code",
      "source": [
        "data[157]"
      ],
      "outputs": [
        {
          "output_type": "execute_result",
          "execution_count": 8,
          "data": {
            "text/plain": [
              "{'author': 'John Hansell',\n",
              " 'category': 'Single Malt Scotch',\n",
              " 'description': '\\nRummy molasses and toffee sweetness intertwine with roasted nuts and bright, juicy fruit. Suggestions of fig, lavender, leather, and tobacco throughout, with a hint of peat and polished oak on the finish. Not quite as refined as the Highland Park 18 year old, but it makes up for this with its dynamic personality. A delicious ultra-mature, sherry cask-aged whisky. (A Binny’s Beverage Depot exclusive.) \\r\\n',\n",
              " 'name': 'Highland Park, 34 year old, 1971 vintage (Cask #8363), 53%',\n",
              " 'price': '325.00',\n",
              " 'priceCurrency': '$',\n",
              " 'ratingValue': '94'}"
            ]
          },
          "metadata": {}
        }
      ],
      "execution_count": 8,
      "metadata": {
        "collapsed": false,
        "outputHidden": false,
        "inputHidden": false
      }
    },
    {
      "cell_type": "markdown",
      "source": [
        "<a id=\"explore\"></a>\n",
        "## Data Exploration"
      ],
      "metadata": {
        "collapsed": false,
        "outputHidden": false,
        "inputHidden": false
      }
    },
    {
      "cell_type": "code",
      "source": [
        "df = pd.DataFrame.from_records(data)"
      ],
      "outputs": [],
      "execution_count": 9,
      "metadata": {
        "collapsed": false,
        "outputHidden": false,
        "inputHidden": false
      }
    },
    {
      "cell_type": "code",
      "source": [
        "df.head()"
      ],
      "outputs": [
        {
          "output_type": "execute_result",
          "execution_count": 10,
          "data": {
            "text/plain": [
              "            author               category  \\\n",
              "0  Jonny McCormick  Blended Scotch Whisky   \n",
              "1     John Hansell      Bourbon/Tennessee   \n",
              "2       Dave Broom     Single Malt Scotch   \n",
              "3     John Hansell      Bourbon/Tennessee   \n",
              "4     John Hansell     Single Malt Scotch   \n",
              "\n",
              "                                         description  \\\n",
              "0  \\nMagnificently powerful and intense. Caramels...   \n",
              "1  \\nA marriage of 13 and 18 year old bourbons. A...   \n",
              "2  \\nThere have been some legendary Bowmores from...   \n",
              "3  \\nThis bottling celebrates master distiller Pa...   \n",
              "4  \\nWhat impresses me most is how this whisky ev...   \n",
              "\n",
              "                                                name     price priceCurrency  \\\n",
              "0                     Johnnie Walker Blue Label, 40%       225             $   \n",
              "1  Four Roses 2013 Limited Edition Small Batch, 5...        85             $   \n",
              "2        Bowmore 46 year old (distilled 1964), 42.9%  13500.00             $   \n",
              "3  Parker's Heritage Collection, 'Golden Annivers...    150.00             $   \n",
              "4    Black Bowmore, 1964 vintage, 42 year old, 40.5%   4500.00             $   \n",
              "\n",
              "  ratingValue  \n",
              "0          97  \n",
              "1          97  \n",
              "2          97  \n",
              "3          97  \n",
              "4          97  "
            ],
            "text/html": [
              "<div>\n",
              "<style scoped>\n",
              "    .dataframe tbody tr th:only-of-type {\n",
              "        vertical-align: middle;\n",
              "    }\n",
              "\n",
              "    .dataframe tbody tr th {\n",
              "        vertical-align: top;\n",
              "    }\n",
              "\n",
              "    .dataframe thead th {\n",
              "        text-align: right;\n",
              "    }\n",
              "</style>\n",
              "<table border=\"1\" class=\"dataframe\">\n",
              "  <thead>\n",
              "    <tr style=\"text-align: right;\">\n",
              "      <th></th>\n",
              "      <th>author</th>\n",
              "      <th>category</th>\n",
              "      <th>description</th>\n",
              "      <th>name</th>\n",
              "      <th>price</th>\n",
              "      <th>priceCurrency</th>\n",
              "      <th>ratingValue</th>\n",
              "    </tr>\n",
              "  </thead>\n",
              "  <tbody>\n",
              "    <tr>\n",
              "      <th>0</th>\n",
              "      <td>Jonny McCormick</td>\n",
              "      <td>Blended Scotch Whisky</td>\n",
              "      <td>\\nMagnificently powerful and intense. Caramels...</td>\n",
              "      <td>Johnnie Walker Blue Label, 40%</td>\n",
              "      <td>225</td>\n",
              "      <td>$</td>\n",
              "      <td>97</td>\n",
              "    </tr>\n",
              "    <tr>\n",
              "      <th>1</th>\n",
              "      <td>John Hansell</td>\n",
              "      <td>Bourbon/Tennessee</td>\n",
              "      <td>\\nA marriage of 13 and 18 year old bourbons. A...</td>\n",
              "      <td>Four Roses 2013 Limited Edition Small Batch, 5...</td>\n",
              "      <td>85</td>\n",
              "      <td>$</td>\n",
              "      <td>97</td>\n",
              "    </tr>\n",
              "    <tr>\n",
              "      <th>2</th>\n",
              "      <td>Dave Broom</td>\n",
              "      <td>Single Malt Scotch</td>\n",
              "      <td>\\nThere have been some legendary Bowmores from...</td>\n",
              "      <td>Bowmore 46 year old (distilled 1964), 42.9%</td>\n",
              "      <td>13500.00</td>\n",
              "      <td>$</td>\n",
              "      <td>97</td>\n",
              "    </tr>\n",
              "    <tr>\n",
              "      <th>3</th>\n",
              "      <td>John Hansell</td>\n",
              "      <td>Bourbon/Tennessee</td>\n",
              "      <td>\\nThis bottling celebrates master distiller Pa...</td>\n",
              "      <td>Parker's Heritage Collection, 'Golden Annivers...</td>\n",
              "      <td>150.00</td>\n",
              "      <td>$</td>\n",
              "      <td>97</td>\n",
              "    </tr>\n",
              "    <tr>\n",
              "      <th>4</th>\n",
              "      <td>John Hansell</td>\n",
              "      <td>Single Malt Scotch</td>\n",
              "      <td>\\nWhat impresses me most is how this whisky ev...</td>\n",
              "      <td>Black Bowmore, 1964 vintage, 42 year old, 40.5%</td>\n",
              "      <td>4500.00</td>\n",
              "      <td>$</td>\n",
              "      <td>97</td>\n",
              "    </tr>\n",
              "  </tbody>\n",
              "</table>\n",
              "</div>"
            ]
          },
          "metadata": {}
        }
      ],
      "execution_count": 10,
      "metadata": {
        "collapsed": false,
        "outputHidden": false,
        "inputHidden": false
      }
    },
    {
      "cell_type": "code",
      "source": [
        "df.shape[0]"
      ],
      "outputs": [
        {
          "output_type": "execute_result",
          "execution_count": 11,
          "data": {
            "text/plain": [
              "4159"
            ]
          },
          "metadata": {}
        }
      ],
      "execution_count": 11,
      "metadata": {
        "collapsed": false,
        "outputHidden": false,
        "inputHidden": false
      }
    },
    {
      "cell_type": "code",
      "source": [
        "df['ratingValue'].astype('int').describe()"
      ],
      "outputs": [
        {
          "output_type": "execute_result",
          "execution_count": 12,
          "data": {
            "text/plain": [
              "count    4159.000000\n",
              "mean       86.333975\n",
              "std         4.685930\n",
              "min        60.000000\n",
              "25%        83.000000\n",
              "50%        87.000000\n",
              "75%        90.000000\n",
              "max        97.000000\n",
              "Name: ratingValue, dtype: float64"
            ]
          },
          "metadata": {}
        }
      ],
      "execution_count": 12,
      "metadata": {
        "collapsed": false,
        "outputHidden": false,
        "inputHidden": false
      }
    },
    {
      "cell_type": "code",
      "source": [
        "df['category'].value_counts()"
      ],
      "outputs": [
        {
          "output_type": "execute_result",
          "execution_count": 13,
          "data": {
            "text/plain": [
              "Single Malt Scotch                  1820\n",
              "Bourbon/Tennessee                    499\n",
              "Craft Whiskey                        333\n",
              "Canadian                             222\n",
              "Blended Scotch Whisky                211\n",
              "Blended Malt Scotch Whisky           132\n",
              "Rye Whiskey                          117\n",
              "Irish                                107\n",
              "Japanese                              84\n",
              "Flavored Whisky & Liqueurs            62\n",
              "Single Grain Whisky                   57\n",
              "Australian Whisky                     40\n",
              "Single Malt Swedish Whisky            39\n",
              "Irish Blended Whiskey                 33\n",
              "Indian Whisky                         32\n",
              "Grain Scotch Whisky                   28\n",
              "Single Malt English Whisky            27\n",
              "Miscellaneous                         25\n",
              "French Whisky                         24\n",
              "Blended Irish Whiskey                 21\n",
              "Taiwanese Whisky                      21\n",
              "American Whiskey (Unspecified)        20\n",
              "White Whiskey                         17\n",
              "Irish Single Malt                     15\n",
              "Irish Single Pot Still                14\n",
              "Austrian Whisky                       11\n",
              "New Zealand                           11\n",
              "Swiss                                 11\n",
              "American Blended Whiskey               9\n",
              "Welsh Whisky                           9\n",
              "Belgian Whisky                         9\n",
              "Dutch                                  8\n",
              "Danish                                 8\n",
              "Unspecified Single Malt                7\n",
              "Single Malt French Whisky              7\n",
              "Single Malt American Whiskey           7\n",
              "World Whisky                           7\n",
              "Multinational Whisky                   7\n",
              "Wheat Whiskey                          6\n",
              "Single Grain Irish Whiskey             6\n",
              "South African Whisky                   4\n",
              "Liechtenstein                          4\n",
              "Spanish Whisky                         4\n",
              "Single Malt Finnish Whisky             3\n",
              "Blended French Whisky                  3\n",
              "Single Grain Scotch                    3\n",
              "Italian                                2\n",
              "English Grain Spirit                   2\n",
              "Blended Grain Scotch Whisky            2\n",
              "Icelandic Whisky and Malt Spirit       1\n",
              "Straight Corn Whiskey                  1\n",
              "Single Malt Belgian Whisky             1\n",
              "Blended Belgian Whisky                 1\n",
              "Netherlands Whisky                     1\n",
              "English Blended Whisky                 1\n",
              "Single Grain Belgian Whisky            1\n",
              "Bhutanese Whisky                       1\n",
              "Poitín                                 1\n",
              "Name: category, dtype: int64"
            ]
          },
          "metadata": {}
        }
      ],
      "execution_count": 13,
      "metadata": {
        "collapsed": false,
        "outputHidden": false,
        "inputHidden": false
      }
    },
    {
      "cell_type": "code",
      "source": [
        "df['price'].head()"
      ],
      "outputs": [
        {
          "output_type": "execute_result",
          "execution_count": 15,
          "data": {
            "text/plain": [
              "0         225\n",
              "1          85\n",
              "2    13500.00\n",
              "3      150.00\n",
              "4     4500.00\n",
              "Name: price, dtype: object"
            ]
          },
          "metadata": {}
        }
      ],
      "execution_count": 15,
      "metadata": {
        "collapsed": false,
        "outputHidden": false,
        "inputHidden": false
      }
    },
    {
      "cell_type": "code",
      "source": [
        "df['p2'] = df['price'].astype('str').replace(\",\",\"\").replace(\"$\", \"\")"
      ],
      "outputs": [],
      "execution_count": null,
      "metadata": {
        "collapsed": false,
        "outputHidden": true,
        "inputHidden": false
      }
    },
    {
      "cell_type": "code",
      "source": [
        "df['p2'].astype('float').describe()"
      ],
      "outputs": [],
      "execution_count": null,
      "metadata": {
        "collapsed": false,
        "outputHidden": false,
        "inputHidden": false
      }
    },
    {
      "cell_type": "code",
      "source": [
        "df['p2'].str.replace(\"$\", \"\").str.replace(\"/set\",\"\").astype('float')"
      ],
      "outputs": [],
      "execution_count": null,
      "metadata": {
        "collapsed": false,
        "outputHidden": true,
        "inputHidden": false
      }
    },
    {
      "cell_type": "code",
      "source": [
        "df['price'] = pd.to_numeric(df['price'], errors='coerce')"
      ],
      "outputs": [],
      "execution_count": 16,
      "metadata": {
        "collapsed": false,
        "outputHidden": false,
        "inputHidden": false
      }
    },
    {
      "cell_type": "code",
      "source": [
        "import seaborn as sns\n",
        "from locale import atof\n",
        "\n",
        "#df['price'] = df['price'].apply(atof)\n",
        "sns.regplot(x=df[df['price'] < 20000]['ratingValue'].astype('float'), y=df[df['price'] < 20000]['price'])"
      ],
      "outputs": [
        {
          "output_type": "error",
          "ename": "NameError",
          "evalue": "name 'plt' is not defined",
          "traceback": [
            "\u001b[1;31m---------------------------------------------------------------------------\u001b[0m",
            "\u001b[1;31mNameError\u001b[0m                                 Traceback (most recent call last)",
            "\u001b[1;32m<ipython-input-18-774cd0df3af7>\u001b[0m in \u001b[0;36m<module>\u001b[1;34m()\u001b[0m\n\u001b[0;32m      4\u001b[0m \u001b[1;31m#df['price'] = df['price'].apply(atof)\u001b[0m\u001b[1;33m\u001b[0m\u001b[1;33m\u001b[0m\u001b[0m\n\u001b[0;32m      5\u001b[0m \u001b[0msns\u001b[0m\u001b[1;33m.\u001b[0m\u001b[0mregplot\u001b[0m\u001b[1;33m(\u001b[0m\u001b[0mx\u001b[0m\u001b[1;33m=\u001b[0m\u001b[0mdf\u001b[0m\u001b[1;33m[\u001b[0m\u001b[0mdf\u001b[0m\u001b[1;33m[\u001b[0m\u001b[1;34m'price'\u001b[0m\u001b[1;33m]\u001b[0m \u001b[1;33m<\u001b[0m \u001b[1;36m20000\u001b[0m\u001b[1;33m]\u001b[0m\u001b[1;33m[\u001b[0m\u001b[1;34m'ratingValue'\u001b[0m\u001b[1;33m]\u001b[0m\u001b[1;33m.\u001b[0m\u001b[0mastype\u001b[0m\u001b[1;33m(\u001b[0m\u001b[1;34m'float'\u001b[0m\u001b[1;33m)\u001b[0m\u001b[1;33m,\u001b[0m \u001b[0my\u001b[0m\u001b[1;33m=\u001b[0m\u001b[0mdf\u001b[0m\u001b[1;33m[\u001b[0m\u001b[0mdf\u001b[0m\u001b[1;33m[\u001b[0m\u001b[1;34m'price'\u001b[0m\u001b[1;33m]\u001b[0m \u001b[1;33m<\u001b[0m \u001b[1;36m20000\u001b[0m\u001b[1;33m]\u001b[0m\u001b[1;33m[\u001b[0m\u001b[1;34m'price'\u001b[0m\u001b[1;33m]\u001b[0m\u001b[1;33m)\u001b[0m\u001b[1;33m\u001b[0m\u001b[0m\n\u001b[1;32m----> 6\u001b[1;33m \u001b[0mplt\u001b[0m\u001b[1;33m.\u001b[0m\u001b[0mshow\u001b[0m\u001b[1;33m(\u001b[0m\u001b[1;33m)\u001b[0m\u001b[1;33m\u001b[0m\u001b[0m\n\u001b[0m",
            "\u001b[1;31mNameError\u001b[0m: name 'plt' is not defined"
          ]
        },
        {
          "output_type": "display_data",
          "data": {
            "text/plain": [
              "<Figure size 432x288 with 1 Axes>"
            ],
            "image/png": "[encoded data removed]"
          },
          "metadata": {}
        }
      ],
      "execution_count": 18,
      "metadata": {
        "collapsed": false,
        "outputHidden": false,
        "inputHidden": false
      }
    },
    {
      "cell_type": "markdown",
      "source": [
        "Failed method for extracting %"
      ],
      "metadata": {
        "collapsed": false,
        "outputHidden": false,
        "inputHidden": false
      }
    },
    {
      "cell_type": "code",
      "source": [
        "df['pert_alcohol'] = df['name'].apply(lambda x: x.split()[-1][:-1])"
      ],
      "outputs": [],
      "execution_count": null,
      "metadata": {
        "collapsed": false,
        "outputHidden": false,
        "inputHidden": false
      }
    },
    {
      "cell_type": "code",
      "source": [
        "df['pert_alcohol'] = pd.to_numeric(df['pert_alcohol'], errors='coerce')"
      ],
      "outputs": [],
      "execution_count": null,
      "metadata": {
        "collapsed": false,
        "outputHidden": false,
        "inputHidden": false
      }
    },
    {
      "cell_type": "code",
      "source": [
        "def  is_it_perct(name):\n",
        "    #print(name)\n",
        "    last_seg = name.split()[-1]\n",
        "    if last_seg[-1:] == \"%\":\n",
        "        return last_seg[:-1]\n",
        "    else:\n",
        "        return None"
      ],
      "outputs": [],
      "execution_count": 21,
      "metadata": {
        "collapsed": false,
        "outputHidden": false,
        "inputHidden": false
      }
    },
    {
      "cell_type": "code",
      "source": [
        "df.loc[df['name'].isnull(), 'name'] = 'Bunnahabhain'"
      ],
      "outputs": [],
      "execution_count": null,
      "metadata": {
        "collapsed": false,
        "outputHidden": false,
        "inputHidden": false
      }
    },
    {
      "cell_type": "code",
      "source": [
        "df['pert_alcohol'] = df['name'].apply(is_it_perct)\n",
        "df['pert_alcohol'] = pd.to_numeric(df['pert_alcohol'], errors='coerce')"
      ],
      "outputs": [],
      "execution_count": 22,
      "metadata": {
        "collapsed": false,
        "outputHidden": false,
        "inputHidden": false
      }
    },
    {
      "cell_type": "code",
      "source": [
        "df.head()"
      ],
      "outputs": [
        {
          "output_type": "execute_result",
          "execution_count": 23,
          "data": {
            "text/plain": [
              "            author               category  \\\n",
              "0  Jonny McCormick  Blended Scotch Whisky   \n",
              "1     John Hansell      Bourbon/Tennessee   \n",
              "2       Dave Broom     Single Malt Scotch   \n",
              "3     John Hansell      Bourbon/Tennessee   \n",
              "4     John Hansell     Single Malt Scotch   \n",
              "\n",
              "                                         description  \\\n",
              "0  \\nMagnificently powerful and intense. Caramels...   \n",
              "1  \\nA marriage of 13 and 18 year old bourbons. A...   \n",
              "2  \\nThere have been some legendary Bowmores from...   \n",
              "3  \\nThis bottling celebrates master distiller Pa...   \n",
              "4  \\nWhat impresses me most is how this whisky ev...   \n",
              "\n",
              "                                                name    price priceCurrency  \\\n",
              "0                     Johnnie Walker Blue Label, 40%    225.0             $   \n",
              "1  Four Roses 2013 Limited Edition Small Batch, 5...     85.0             $   \n",
              "2        Bowmore 46 year old (distilled 1964), 42.9%  13500.0             $   \n",
              "3  Parker's Heritage Collection, 'Golden Annivers...    150.0             $   \n",
              "4    Black Bowmore, 1964 vintage, 42 year old, 40.5%   4500.0             $   \n",
              "\n",
              "  ratingValue  pert_alcohol  \n",
              "0          97          40.0  \n",
              "1          97          51.5  \n",
              "2          97          42.9  \n",
              "3          97          50.0  \n",
              "4          97          40.5  "
            ],
            "text/html": [
              "<div>\n",
              "<style scoped>\n",
              "    .dataframe tbody tr th:only-of-type {\n",
              "        vertical-align: middle;\n",
              "    }\n",
              "\n",
              "    .dataframe tbody tr th {\n",
              "        vertical-align: top;\n",
              "    }\n",
              "\n",
              "    .dataframe thead th {\n",
              "        text-align: right;\n",
              "    }\n",
              "</style>\n",
              "<table border=\"1\" class=\"dataframe\">\n",
              "  <thead>\n",
              "    <tr style=\"text-align: right;\">\n",
              "      <th></th>\n",
              "      <th>author</th>\n",
              "      <th>category</th>\n",
              "      <th>description</th>\n",
              "      <th>name</th>\n",
              "      <th>price</th>\n",
              "      <th>priceCurrency</th>\n",
              "      <th>ratingValue</th>\n",
              "      <th>pert_alcohol</th>\n",
              "    </tr>\n",
              "  </thead>\n",
              "  <tbody>\n",
              "    <tr>\n",
              "      <th>0</th>\n",
              "      <td>Jonny McCormick</td>\n",
              "      <td>Blended Scotch Whisky</td>\n",
              "      <td>\\nMagnificently powerful and intense. Caramels...</td>\n",
              "      <td>Johnnie Walker Blue Label, 40%</td>\n",
              "      <td>225.0</td>\n",
              "      <td>$</td>\n",
              "      <td>97</td>\n",
              "      <td>40.0</td>\n",
              "    </tr>\n",
              "    <tr>\n",
              "      <th>1</th>\n",
              "      <td>John Hansell</td>\n",
              "      <td>Bourbon/Tennessee</td>\n",
              "      <td>\\nA marriage of 13 and 18 year old bourbons. A...</td>\n",
              "      <td>Four Roses 2013 Limited Edition Small Batch, 5...</td>\n",
              "      <td>85.0</td>\n",
              "      <td>$</td>\n",
              "      <td>97</td>\n",
              "      <td>51.5</td>\n",
              "    </tr>\n",
              "    <tr>\n",
              "      <th>2</th>\n",
              "      <td>Dave Broom</td>\n",
              "      <td>Single Malt Scotch</td>\n",
              "      <td>\\nThere have been some legendary Bowmores from...</td>\n",
              "      <td>Bowmore 46 year old (distilled 1964), 42.9%</td>\n",
              "      <td>13500.0</td>\n",
              "      <td>$</td>\n",
              "      <td>97</td>\n",
              "      <td>42.9</td>\n",
              "    </tr>\n",
              "    <tr>\n",
              "      <th>3</th>\n",
              "      <td>John Hansell</td>\n",
              "      <td>Bourbon/Tennessee</td>\n",
              "      <td>\\nThis bottling celebrates master distiller Pa...</td>\n",
              "      <td>Parker's Heritage Collection, 'Golden Annivers...</td>\n",
              "      <td>150.0</td>\n",
              "      <td>$</td>\n",
              "      <td>97</td>\n",
              "      <td>50.0</td>\n",
              "    </tr>\n",
              "    <tr>\n",
              "      <th>4</th>\n",
              "      <td>John Hansell</td>\n",
              "      <td>Single Malt Scotch</td>\n",
              "      <td>\\nWhat impresses me most is how this whisky ev...</td>\n",
              "      <td>Black Bowmore, 1964 vintage, 42 year old, 40.5%</td>\n",
              "      <td>4500.0</td>\n",
              "      <td>$</td>\n",
              "      <td>97</td>\n",
              "      <td>40.5</td>\n",
              "    </tr>\n",
              "  </tbody>\n",
              "</table>\n",
              "</div>"
            ]
          },
          "metadata": {}
        }
      ],
      "execution_count": 23,
      "metadata": {
        "collapsed": false,
        "outputHidden": false,
        "inputHidden": false
      }
    },
    {
      "cell_type": "code",
      "source": [
        "df['pert_alcohol'].describe()"
      ],
      "outputs": [
        {
          "output_type": "execute_result",
          "execution_count": 24,
          "data": {
            "text/plain": [
              "count    4081.000000\n",
              "mean       47.512557\n",
              "std         6.465260\n",
              "min        17.000000\n",
              "25%        43.000000\n",
              "50%        46.000000\n",
              "75%        50.500000\n",
              "max        98.600000\n",
              "Name: pert_alcohol, dtype: float64"
            ]
          },
          "metadata": {}
        }
      ],
      "execution_count": 24,
      "metadata": {
        "collapsed": false,
        "outputHidden": false,
        "inputHidden": false
      }
    },
    {
      "cell_type": "code",
      "source": [
        "import seaborn as sns\n",
        "sns.distplot(df[-df['pert_alcohol'].isnull()]['pert_alcohol'], bins=25)"
      ],
      "outputs": [
        {
          "output_type": "stream",
          "name": "stderr",
          "text": [
            "C:\\ProgramData\\Anaconda3\\envs\\mlg_2\\lib\\site-packages\\matplotlib\\axes\\_axes.py:6448: UserWarning: The 'normed' kwarg is deprecated, and has been replaced by the 'density' kwarg.\n",
            "  warnings.warn(\"The 'normed' kwarg is deprecated, and has been \"\n"
          ]
        },
        {
          "output_type": "execute_result",
          "execution_count": 25,
          "data": {
            "text/plain": [
              "<matplotlib.axes._subplots.AxesSubplot at 0x19adeff1dd8>"
            ]
          },
          "metadata": {}
        },
        {
          "output_type": "display_data",
          "data": {
            "text/plain": [
              "<Figure size 432x288 with 1 Axes>"
            ],
            "image/png": "[encoded data removed]"
          },
          "metadata": {}
        }
      ],
      "execution_count": 25,
      "metadata": {
        "collapsed": false,
        "outputHidden": false,
        "inputHidden": false
      }
    },
    {
      "cell_type": "code",
      "source": [
        "sns.distplot(df['ratingValue'].astype('float'), bins=10)"
      ],
      "outputs": [],
      "execution_count": null,
      "metadata": {
        "collapsed": false,
        "outputHidden": false,
        "inputHidden": false
      }
    },
    {
      "cell_type": "code",
      "source": [
        "import numpy as np\n",
        "import matplotlib.pyplot as plt\n",
        "\n",
        "types = df['category'].value_counts()[:9]\n",
        "\n",
        "height = types.tolist()\n",
        "bars = types.index.tolist()\n",
        "y_pos = np.arange(len(bars))\n",
        "\n",
        "plt.bar(y_pos, height)\n",
        "plt.xticks(y_pos, bars, rotation='vertical')\n",
        "\nplt.show()"
      ],
      "outputs": [
        {
          "output_type": "display_data",
          "data": {
            "text/plain": [
              "<Figure size 432x288 with 1 Axes>"
            ],
            "image/png": "[encoded data removed]"
          },
          "metadata": {}
        }
      ],
      "execution_count": 26,
      "metadata": {
        "collapsed": false,
        "outputHidden": false,
        "inputHidden": false
      }
    },
    {
      "cell_type": "code",
      "source": [
        "list(df)"
      ],
      "outputs": [],
      "execution_count": null,
      "metadata": {
        "collapsed": false,
        "outputHidden": false,
        "inputHidden": false
      }
    },
    {
      "cell_type": "markdown",
      "source": [
        "<a id=\"ml\"></a>\n",
        "## Machine Learning\n",
        "* Can we use the words of the reviews to predict a whisky's review score? \n",
        "* Which words are the most important / indicate a good review? \n",
        "\nWe'll be applying linear regression to help us answer these questions. To process the text, we'll be using a text vectorization method: Tf-idf (Term Frequency - Inverse Document Frequency)."
      ],
      "metadata": {
        "collapsed": false,
        "outputHidden": false,
        "inputHidden": false
      }
    },
    {
      "cell_type": "code",
      "source": [
        "from sklearn.feature_extraction.text import TfidfVectorizer"
      ],
      "outputs": [],
      "execution_count": 28,
      "metadata": {
        "collapsed": false,
        "outputHidden": false,
        "inputHidden": false
      }
    },
    {
      "cell_type": "code",
      "source": [
        "vect = TfidfVectorizer(stop_words='english', max_features=1000, \n",
        "                       min_df=5, max_df=.8, ngram_range=(1,2))\n",
        "X = vect.fit_transform(df['description'])"
      ],
      "outputs": [],
      "execution_count": 29,
      "metadata": {
        "collapsed": false,
        "outputHidden": false,
        "inputHidden": false
      }
    },
    {
      "cell_type": "code",
      "source": [
        "X.todense()"
      ],
      "outputs": [
        {
          "output_type": "execute_result",
          "execution_count": 30,
          "data": {
            "text/plain": [
              "matrix([[0., 0., 0., ..., 0., 0., 0.],\n",
              "        [0., 0., 0., ..., 0., 0., 0.],\n",
              "        [0., 0., 0., ..., 0., 0., 0.],\n",
              "        ...,\n",
              "        [0., 0., 0., ..., 0., 0., 0.],\n",
              "        [0., 0., 0., ..., 0., 0., 0.],\n",
              "        [0., 0., 0., ..., 0., 0., 0.]])"
            ]
          },
          "metadata": {}
        }
      ],
      "execution_count": 30,
      "metadata": {
        "collapsed": false,
        "outputHidden": false,
        "inputHidden": false
      }
    },
    {
      "cell_type": "code",
      "source": [
        "vect.get_feature_names()[50:75]"
      ],
      "outputs": [
        {
          "output_type": "execute_result",
          "execution_count": 31,
          "data": {
            "text/plain": [
              "['alcohol',\n",
              " 'allowing',\n",
              " 'allspice',\n",
              " 'almond',\n",
              " 'almonds',\n",
              " 'alongside',\n",
              " 'amber',\n",
              " 'amber color',\n",
              " 'american',\n",
              " 'american oak',\n",
              " 'anise',\n",
              " 'aniseed',\n",
              " 'antique',\n",
              " 'appetizing',\n",
              " 'apple',\n",
              " 'apples',\n",
              " 'apricot',\n",
              " 'apricots',\n",
              " 'ardbeg',\n",
              " 'aroma',\n",
              " 'aromas',\n",
              " 'aromatic',\n",
              " 'assertive',\n",
              " 'available',\n",
              " 'away']"
            ]
          },
          "metadata": {}
        }
      ],
      "execution_count": 31,
      "metadata": {
        "collapsed": false,
        "outputHidden": false,
        "inputHidden": false
      }
    },
    {
      "cell_type": "code",
      "source": [
        "from sklearn.linear_model import LinearRegression\n",
        "\n",
        "reg = LinearRegression()\n",
        "reg.fit(X, df['ratingValue'].astype('float'))"
      ],
      "outputs": [
        {
          "output_type": "execute_result",
          "execution_count": 32,
          "data": {
            "text/plain": [
              "LinearRegression(copy_X=True, fit_intercept=True, n_jobs=1, normalize=False)"
            ]
          },
          "metadata": {}
        }
      ],
      "execution_count": 32,
      "metadata": {
        "collapsed": false,
        "outputHidden": false,
        "inputHidden": false
      }
    },
    {
      "cell_type": "code",
      "source": [
        "from sklearn.metrics import mean_squared_error, r2_score\n",
        "\n",
        "y_pred = reg.predict(X)\n",
        "print(r2_score(df['ratingValue'].astype('float'), y_pred))"
      ],
      "outputs": [
        {
          "output_type": "stream",
          "name": "stdout",
          "text": [
            "0.5767505314635144\n"
          ]
        }
      ],
      "execution_count": 33,
      "metadata": {
        "collapsed": false,
        "outputHidden": false,
        "inputHidden": false
      }
    },
    {
      "cell_type": "code",
      "source": [
        "model = pd.DataFrame(reg.coef_, columns=['coef'], index=vect.get_feature_names())"
      ],
      "outputs": [],
      "execution_count": 34,
      "metadata": {
        "collapsed": false,
        "outputHidden": false,
        "inputHidden": false
      }
    },
    {
      "cell_type": "code",
      "source": [],
      "outputs": [],
      "execution_count": null,
      "metadata": {
        "collapsed": false,
        "outputHidden": false,
        "inputHidden": false
      }
    },
    {
      "cell_type": "code",
      "source": [
        "y = df['ratingValue'].astype('float').tolist()"
      ],
      "outputs": [],
      "execution_count": 35,
      "metadata": {
        "collapsed": false,
        "outputHidden": false,
        "inputHidden": false
      }
    },
    {
      "cell_type": "code",
      "source": [
        "from scipy import stats\n",
        "params = np.append(reg.intercept_,reg.coef_)\n",
        "predictions = y_pred\n",
        "newX = pd.DataFrame({\"Constant\":np.ones(len(X.todense()))}).join(pd.DataFrame(X.todense()))\n",
        "MSE = (sum((y-predictions)**2))/(len(newX)-len(newX.columns))\n",
        "\n",
        "# Note if you don't want to use a DataFrame replace the two lines above with\n",
        "# newX = np.append(np.ones((len(X),1)), X, axis=1)\n",
        "# MSE = (sum((y-predictions)**2))/(len(newX)-len(newX[0]))\n",
        "\n",
        "var_b = MSE*(np.linalg.inv(np.dot(newX.T,newX)).diagonal())\n",
        "sd_b = np.sqrt(var_b)\n",
        "ts_b = params/ sd_b\n",
        "\n",
        "p_values =[2*(1-stats.t.cdf(np.abs(i),(len(newX)-1))) for i in ts_b]\n",
        "\n",
        "sd_b = np.round(sd_b,3)\n",
        "ts_b = np.round(ts_b,3)\n",
        "p_values = np.round(p_values,3)\n",
        "params = np.round(params,4)"
      ],
      "outputs": [],
      "execution_count": 36,
      "metadata": {
        "collapsed": false,
        "outputHidden": false,
        "inputHidden": false
      }
    },
    {
      "cell_type": "code",
      "source": [
        "model[\"Std Error\"], model[\"t values\"], model['p values'] = [sd_b[1:], ts_b[1:], p_values[1:]]"
      ],
      "outputs": [],
      "execution_count": 37,
      "metadata": {
        "collapsed": false,
        "outputHidden": false,
        "inputHidden": false
      }
    },
    {
      "cell_type": "code",
      "source": [
        "model.sort_values(by=['p values', 'coef'])"
      ],
      "outputs": [
        {
          "output_type": "execute_result",
          "execution_count": 38,
          "data": {
            "text/plain": [
              "                    coef     Std Error  t values  p values\n",
              "vegetal       -14.446641  2.680000e+00    -5.390     0.000\n",
              "bitterness    -10.474921  2.293000e+00    -4.567     0.000\n",
              "emerging       -9.829332  2.488000e+00    -3.951     0.000\n",
              "dominant       -9.586149  2.398000e+00    -3.998     0.000\n",
              "faint          -9.239135  2.266000e+00    -4.076     0.000\n",
              "youthful       -8.904375  1.867000e+00    -4.769     0.000\n",
              "needs          -8.842870  2.139000e+00    -4.135     0.000\n",
              "quickly        -8.508581  2.237000e+00    -3.804     0.000\n",
              "short          -8.428824  2.184000e+00    -3.859     0.000\n",
              "tastes         -8.021872  2.248000e+00    -3.569     0.000\n",
              "little         -7.295962  1.450000e+00    -5.033     0.000\n",
              "nose           -7.275555  1.862000e+00    -3.908     0.000\n",
              "slight         -7.052352  2.004000e+00    -3.519     0.000\n",
              "spirit         -6.518346  1.652000e+00    -3.945     0.000\n",
              "hot            -4.623818  1.282000e+00    -3.606     0.000\n",
              "rye             4.232027  1.086000e+00     3.896     0.000\n",
              "rich            6.504202  1.389000e+00     4.684     0.000\n",
              "bottles         7.562343  1.806000e+00     4.188     0.000\n",
              "layered         7.566420  2.156000e+00     3.509     0.000\n",
              "delicious       8.131000  2.049000e+00     3.969     0.000\n",
              "silky           8.504231  2.044000e+00     4.161     0.000\n",
              "impressive      8.660959  2.333000e+00     3.712     0.000\n",
              "complex         9.853440  1.507000e+00     6.537     0.000\n",
              "excellent      12.100084  2.496000e+00     4.849     0.000\n",
              "entry          -8.757120  2.583000e+00    -3.390     0.001\n",
              "grape          -7.854792  2.268000e+00    -3.463     0.001\n",
              "label          -7.245969  2.143000e+00    -3.382     0.001\n",
              "elegant         6.549503  2.018000e+00     3.245     0.001\n",
              "000            11.432048  3.383000e+00     3.379     0.001\n",
              "additional     -8.046192  2.616000e+00    -3.076     0.002\n",
              "...                  ...           ...       ...       ...\n",
              "pudding        -0.106803  2.434000e+00    -0.044     0.965\n",
              "dries          -0.120235  2.816000e+00    -0.043     0.966\n",
              "fades          -0.112529  2.673000e+00    -0.042     0.966\n",
              "butter         -0.086754  2.226000e+00    -0.039     0.969\n",
              "emerges        -0.093996  2.702000e+00    -0.035     0.972\n",
              "add            -0.063573  1.951000e+00    -0.033     0.974\n",
              "honeyed malt   -0.084215  3.061000e+00    -0.028     0.978\n",
              "acidity         0.076509  2.755000e+00     0.028     0.978\n",
              "try             0.057337  2.642000e+00     0.022     0.983\n",
              "center          0.049746  2.550000e+00     0.020     0.984\n",
              "oak barrels     0.074105  3.605000e+00     0.021     0.984\n",
              "craft           0.049501  2.607000e+00     0.019     0.985\n",
              "tangerine      -0.033597  2.174000e+00    -0.015     0.988\n",
              "gently sweet    0.041439  3.326000e+00     0.012     0.990\n",
              "popcorn        -0.034556  3.069000e+00    -0.011     0.991\n",
              "balvenie       -0.025381  2.170000e+00    -0.012     0.991\n",
              "raisin          0.027162  2.361000e+00     0.012     0.991\n",
              "releases        0.019897  2.001000e+00     0.010     0.992\n",
              "sherry cask    -0.024810  2.732000e+00    -0.009     0.993\n",
              "satisfying     -0.018629  2.615000e+00    -0.007     0.994\n",
              "isn             0.015519  1.982000e+00     0.008     0.994\n",
              "orange peel     0.023169  2.879000e+00     0.008     0.994\n",
              "length finish   0.028731  4.592000e+00     0.006     0.995\n",
              "70             -0.009182  2.636000e+00    -0.003     0.997\n",
              "vanilla honey   0.009824  2.604000e+00     0.004     0.997\n",
              "pith           -0.001971  2.896000e+00    -0.001     0.999\n",
              "ultimately      0.004085  2.504000e+00     0.002     0.999\n",
              "oily texture    0.000393  3.305000e+00     0.000     1.000\n",
              "cotton          0.938088  2.347524e+08     0.000     1.000\n",
              "cotton candy    0.938088  2.347524e+08     0.000     1.000\n",
              "\n[1000 rows x 4 columns]"
            ],
            "text/html": [
              "<div>\n",
              "<style scoped>\n",
              "    .dataframe tbody tr th:only-of-type {\n",
              "        vertical-align: middle;\n",
              "    }\n",
              "\n",
              "    .dataframe tbody tr th {\n",
              "        vertical-align: top;\n",
              "    }\n",
              "\n",
              "    .dataframe thead th {\n",
              "        text-align: right;\n",
              "    }\n",
              "</style>\n",
              "<table border=\"1\" class=\"dataframe\">\n",
              "  <thead>\n",
              "    <tr style=\"text-align: right;\">\n",
              "      <th></th>\n",
              "      <th>coef</th>\n",
              "      <th>Std Error</th>\n",
              "      <th>t values</th>\n",
              "      <th>p values</th>\n",
              "    </tr>\n",
              "  </thead>\n",
              "  <tbody>\n",
              "    <tr>\n",
              "      <th>vegetal</th>\n",
              "      <td>-14.446641</td>\n",
              "      <td>2.680000e+00</td>\n",
              "      <td>-5.390</td>\n",
              "      <td>0.000</td>\n",
              "    </tr>\n",
              "    <tr>\n",
              "      <th>bitterness</th>\n",
              "      <td>-10.474921</td>\n",
              "      <td>2.293000e+00</td>\n",
              "      <td>-4.567</td>\n",
              "      <td>0.000</td>\n",
              "    </tr>\n",
              "    <tr>\n",
              "      <th>emerging</th>\n",
              "      <td>-9.829332</td>\n",
              "      <td>2.488000e+00</td>\n",
              "      <td>-3.951</td>\n",
              "      <td>0.000</td>\n",
              "    </tr>\n",
              "    <tr>\n",
              "      <th>dominant</th>\n",
              "      <td>-9.586149</td>\n",
              "      <td>2.398000e+00</td>\n",
              "      <td>-3.998</td>\n",
              "      <td>0.000</td>\n",
              "    </tr>\n",
              "    <tr>\n",
              "      <th>faint</th>\n",
              "      <td>-9.239135</td>\n",
              "      <td>2.266000e+00</td>\n",
              "      <td>-4.076</td>\n",
              "      <td>0.000</td>\n",
              "    </tr>\n",
              "    <tr>\n",
              "      <th>youthful</th>\n",
              "      <td>-8.904375</td>\n",
              "      <td>1.867000e+00</td>\n",
              "      <td>-4.769</td>\n",
              "      <td>0.000</td>\n",
              "    </tr>\n",
              "    <tr>\n",
              "      <th>needs</th>\n",
              "      <td>-8.842870</td>\n",
              "      <td>2.139000e+00</td>\n",
              "      <td>-4.135</td>\n",
              "      <td>0.000</td>\n",
              "    </tr>\n",
              "    <tr>\n",
              "      <th>quickly</th>\n",
              "      <td>-8.508581</td>\n",
              "      <td>2.237000e+00</td>\n",
              "      <td>-3.804</td>\n",
              "      <td>0.000</td>\n",
              "    </tr>\n",
              "    <tr>\n",
              "      <th>short</th>\n",
              "      <td>-8.428824</td>\n",
              "      <td>2.184000e+00</td>\n",
              "      <td>-3.859</td>\n",
              "      <td>0.000</td>\n",
              "    </tr>\n",
              "    <tr>\n",
              "      <th>tastes</th>\n",
              "      <td>-8.021872</td>\n",
              "      <td>2.248000e+00</td>\n",
              "      <td>-3.569</td>\n",
              "      <td>0.000</td>\n",
              "    </tr>\n",
              "    <tr>\n",
              "      <th>little</th>\n",
              "      <td>-7.295962</td>\n",
              "      <td>1.450000e+00</td>\n",
              "      <td>-5.033</td>\n",
              "      <td>0.000</td>\n",
              "    </tr>\n",
              "    <tr>\n",
              "      <th>nose</th>\n",
              "      <td>-7.275555</td>\n",
              "      <td>1.862000e+00</td>\n",
              "      <td>-3.908</td>\n",
              "      <td>0.000</td>\n",
              "    </tr>\n",
              "    <tr>\n",
              "      <th>slight</th>\n",
              "      <td>-7.052352</td>\n",
              "      <td>2.004000e+00</td>\n",
              "      <td>-3.519</td>\n",
              "      <td>0.000</td>\n",
              "    </tr>\n",
              "    <tr>\n",
              "      <th>spirit</th>\n",
              "      <td>-6.518346</td>\n",
              "      <td>1.652000e+00</td>\n",
              "      <td>-3.945</td>\n",
              "      <td>0.000</td>\n",
              "    </tr>\n",
              "    <tr>\n",
              "      <th>hot</th>\n",
              "      <td>-4.623818</td>\n",
              "      <td>1.282000e+00</td>\n",
              "      <td>-3.606</td>\n",
              "      <td>0.000</td>\n",
              "    </tr>\n",
              "    <tr>\n",
              "      <th>rye</th>\n",
              "      <td>4.232027</td>\n",
              "      <td>1.086000e+00</td>\n",
              "      <td>3.896</td>\n",
              "      <td>0.000</td>\n",
              "    </tr>\n",
              "    <tr>\n",
              "      <th>rich</th>\n",
              "      <td>6.504202</td>\n",
              "      <td>1.389000e+00</td>\n",
              "      <td>4.684</td>\n",
              "      <td>0.000</td>\n",
              "    </tr>\n",
              "    <tr>\n",
              "      <th>bottles</th>\n",
              "      <td>7.562343</td>\n",
              "      <td>1.806000e+00</td>\n",
              "      <td>4.188</td>\n",
              "      <td>0.000</td>\n",
              "    </tr>\n",
              "    <tr>\n",
              "      <th>layered</th>\n",
              "      <td>7.566420</td>\n",
              "      <td>2.156000e+00</td>\n",
              "      <td>3.509</td>\n",
              "      <td>0.000</td>\n",
              "    </tr>\n",
              "    <tr>\n",
              "      <th>delicious</th>\n",
              "      <td>8.131000</td>\n",
              "      <td>2.049000e+00</td>\n",
              "      <td>3.969</td>\n",
              "      <td>0.000</td>\n",
              "    </tr>\n",
              "    <tr>\n",
              "      <th>silky</th>\n",
              "      <td>8.504231</td>\n",
              "      <td>2.044000e+00</td>\n",
              "      <td>4.161</td>\n",
              "      <td>0.000</td>\n",
              "    </tr>\n",
              "    <tr>\n",
              "      <th>impressive</th>\n",
              "      <td>8.660959</td>\n",
              "      <td>2.333000e+00</td>\n",
              "      <td>3.712</td>\n",
              "      <td>0.000</td>\n",
              "    </tr>\n",
              "    <tr>\n",
              "      <th>complex</th>\n",
              "      <td>9.853440</td>\n",
              "      <td>1.507000e+00</td>\n",
              "      <td>6.537</td>\n",
              "      <td>0.000</td>\n",
              "    </tr>\n",
              "    <tr>\n",
              "      <th>excellent</th>\n",
              "      <td>12.100084</td>\n",
              "      <td>2.496000e+00</td>\n",
              "      <td>4.849</td>\n",
              "      <td>0.000</td>\n",
              "    </tr>\n",
              "    <tr>\n",
              "      <th>entry</th>\n",
              "      <td>-8.757120</td>\n",
              "      <td>2.583000e+00</td>\n",
              "      <td>-3.390</td>\n",
              "      <td>0.001</td>\n",
              "    </tr>\n",
              "    <tr>\n",
              "      <th>grape</th>\n",
              "      <td>-7.854792</td>\n",
              "      <td>2.268000e+00</td>\n",
              "      <td>-3.463</td>\n",
              "      <td>0.001</td>\n",
              "    </tr>\n",
              "    <tr>\n",
              "      <th>label</th>\n",
              "      <td>-7.245969</td>\n",
              "      <td>2.143000e+00</td>\n",
              "      <td>-3.382</td>\n",
              "      <td>0.001</td>\n",
              "    </tr>\n",
              "    <tr>\n",
              "      <th>elegant</th>\n",
              "      <td>6.549503</td>\n",
              "      <td>2.018000e+00</td>\n",
              "      <td>3.245</td>\n",
              "      <td>0.001</td>\n",
              "    </tr>\n",
              "    <tr>\n",
              "      <th>000</th>\n",
              "      <td>11.432048</td>\n",
              "      <td>3.383000e+00</td>\n",
              "      <td>3.379</td>\n",
              "      <td>0.001</td>\n",
              "    </tr>\n",
              "    <tr>\n",
              "      <th>additional</th>\n",
              "      <td>-8.046192</td>\n",
              "      <td>2.616000e+00</td>\n",
              "      <td>-3.076</td>\n",
              "      <td>0.002</td>\n",
              "    </tr>\n",
              "    <tr>\n",
              "      <th>...</th>\n",
              "      <td>...</td>\n",
              "      <td>...</td>\n",
              "      <td>...</td>\n",
              "      <td>...</td>\n",
              "    </tr>\n",
              "    <tr>\n",
              "      <th>pudding</th>\n",
              "      <td>-0.106803</td>\n",
              "      <td>2.434000e+00</td>\n",
              "      <td>-0.044</td>\n",
              "      <td>0.965</td>\n",
              "    </tr>\n",
              "    <tr>\n",
              "      <th>dries</th>\n",
              "      <td>-0.120235</td>\n",
              "      <td>2.816000e+00</td>\n",
              "      <td>-0.043</td>\n",
              "      <td>0.966</td>\n",
              "    </tr>\n",
              "    <tr>\n",
              "      <th>fades</th>\n",
              "      <td>-0.112529</td>\n",
              "      <td>2.673000e+00</td>\n",
              "      <td>-0.042</td>\n",
              "      <td>0.966</td>\n",
              "    </tr>\n",
              "    <tr>\n",
              "      <th>butter</th>\n",
              "      <td>-0.086754</td>\n",
              "      <td>2.226000e+00</td>\n",
              "      <td>-0.039</td>\n",
              "      <td>0.969</td>\n",
              "    </tr>\n",
              "    <tr>\n",
              "      <th>emerges</th>\n",
              "      <td>-0.093996</td>\n",
              "      <td>2.702000e+00</td>\n",
              "      <td>-0.035</td>\n",
              "      <td>0.972</td>\n",
              "    </tr>\n",
              "    <tr>\n",
              "      <th>add</th>\n",
              "      <td>-0.063573</td>\n",
              "      <td>1.951000e+00</td>\n",
              "      <td>-0.033</td>\n",
              "      <td>0.974</td>\n",
              "    </tr>\n",
              "    <tr>\n",
              "      <th>honeyed malt</th>\n",
              "      <td>-0.084215</td>\n",
              "      <td>3.061000e+00</td>\n",
              "      <td>-0.028</td>\n",
              "      <td>0.978</td>\n",
              "    </tr>\n",
              "    <tr>\n",
              "      <th>acidity</th>\n",
              "      <td>0.076509</td>\n",
              "      <td>2.755000e+00</td>\n",
              "      <td>0.028</td>\n",
              "      <td>0.978</td>\n",
              "    </tr>\n",
              "    <tr>\n",
              "      <th>try</th>\n",
              "      <td>0.057337</td>\n",
              "      <td>2.642000e+00</td>\n",
              "      <td>0.022</td>\n",
              "      <td>0.983</td>\n",
              "    </tr>\n",
              "    <tr>\n",
              "      <th>center</th>\n",
              "      <td>0.049746</td>\n",
              "      <td>2.550000e+00</td>\n",
              "      <td>0.020</td>\n",
              "      <td>0.984</td>\n",
              "    </tr>\n",
              "    <tr>\n",
              "      <th>oak barrels</th>\n",
              "      <td>0.074105</td>\n",
              "      <td>3.605000e+00</td>\n",
              "      <td>0.021</td>\n",
              "      <td>0.984</td>\n",
              "    </tr>\n",
              "    <tr>\n",
              "      <th>craft</th>\n",
              "      <td>0.049501</td>\n",
              "      <td>2.607000e+00</td>\n",
              "      <td>0.019</td>\n",
              "      <td>0.985</td>\n",
              "    </tr>\n",
              "    <tr>\n",
              "      <th>tangerine</th>\n",
              "      <td>-0.033597</td>\n",
              "      <td>2.174000e+00</td>\n",
              "      <td>-0.015</td>\n",
              "      <td>0.988</td>\n",
              "    </tr>\n",
              "    <tr>\n",
              "      <th>gently sweet</th>\n",
              "      <td>0.041439</td>\n",
              "      <td>3.326000e+00</td>\n",
              "      <td>0.012</td>\n",
              "      <td>0.990</td>\n",
              "    </tr>\n",
              "    <tr>\n",
              "      <th>popcorn</th>\n",
              "      <td>-0.034556</td>\n",
              "      <td>3.069000e+00</td>\n",
              "      <td>-0.011</td>\n",
              "      <td>0.991</td>\n",
              "    </tr>\n",
              "    <tr>\n",
              "      <th>balvenie</th>\n",
              "      <td>-0.025381</td>\n",
              "      <td>2.170000e+00</td>\n",
              "      <td>-0.012</td>\n",
              "      <td>0.991</td>\n",
              "    </tr>\n",
              "    <tr>\n",
              "      <th>raisin</th>\n",
              "      <td>0.027162</td>\n",
              "      <td>2.361000e+00</td>\n",
              "      <td>0.012</td>\n",
              "      <td>0.991</td>\n",
              "    </tr>\n",
              "    <tr>\n",
              "      <th>releases</th>\n",
              "      <td>0.019897</td>\n",
              "      <td>2.001000e+00</td>\n",
              "      <td>0.010</td>\n",
              "      <td>0.992</td>\n",
              "    </tr>\n",
              "    <tr>\n",
              "      <th>sherry cask</th>\n",
              "      <td>-0.024810</td>\n",
              "      <td>2.732000e+00</td>\n",
              "      <td>-0.009</td>\n",
              "      <td>0.993</td>\n",
              "    </tr>\n",
              "    <tr>\n",
              "      <th>satisfying</th>\n",
              "      <td>-0.018629</td>\n",
              "      <td>2.615000e+00</td>\n",
              "      <td>-0.007</td>\n",
              "      <td>0.994</td>\n",
              "    </tr>\n",
              "    <tr>\n",
              "      <th>isn</th>\n",
              "      <td>0.015519</td>\n",
              "      <td>1.982000e+00</td>\n",
              "      <td>0.008</td>\n",
              "      <td>0.994</td>\n",
              "    </tr>\n",
              "    <tr>\n",
              "      <th>orange peel</th>\n",
              "      <td>0.023169</td>\n",
              "      <td>2.879000e+00</td>\n",
              "      <td>0.008</td>\n",
              "      <td>0.994</td>\n",
              "    </tr>\n",
              "    <tr>\n",
              "      <th>length finish</th>\n",
              "      <td>0.028731</td>\n",
              "      <td>4.592000e+00</td>\n",
              "      <td>0.006</td>\n",
              "      <td>0.995</td>\n",
              "    </tr>\n",
              "    <tr>\n",
              "      <th>70</th>\n",
              "      <td>-0.009182</td>\n",
              "      <td>2.636000e+00</td>\n",
              "      <td>-0.003</td>\n",
              "      <td>0.997</td>\n",
              "    </tr>\n",
              "    <tr>\n",
              "      <th>vanilla honey</th>\n",
              "      <td>0.009824</td>\n",
              "      <td>2.604000e+00</td>\n",
              "      <td>0.004</td>\n",
              "      <td>0.997</td>\n",
              "    </tr>\n",
              "    <tr>\n",
              "      <th>pith</th>\n",
              "      <td>-0.001971</td>\n",
              "      <td>2.896000e+00</td>\n",
              "      <td>-0.001</td>\n",
              "      <td>0.999</td>\n",
              "    </tr>\n",
              "    <tr>\n",
              "      <th>ultimately</th>\n",
              "      <td>0.004085</td>\n",
              "      <td>2.504000e+00</td>\n",
              "      <td>0.002</td>\n",
              "      <td>0.999</td>\n",
              "    </tr>\n",
              "    <tr>\n",
              "      <th>oily texture</th>\n",
              "      <td>0.000393</td>\n",
              "      <td>3.305000e+00</td>\n",
              "      <td>0.000</td>\n",
              "      <td>1.000</td>\n",
              "    </tr>\n",
              "    <tr>\n",
              "      <th>cotton</th>\n",
              "      <td>0.938088</td>\n",
              "      <td>2.347524e+08</td>\n",
              "      <td>0.000</td>\n",
              "      <td>1.000</td>\n",
              "    </tr>\n",
              "    <tr>\n",
              "      <th>cotton candy</th>\n",
              "      <td>0.938088</td>\n",
              "      <td>2.347524e+08</td>\n",
              "      <td>0.000</td>\n",
              "      <td>1.000</td>\n",
              "    </tr>\n",
              "  </tbody>\n",
              "</table>\n",
              "<p>1000 rows × 4 columns</p>\n",
              "</div>"
            ]
          },
          "metadata": {}
        }
      ],
      "execution_count": 38,
      "metadata": {
        "collapsed": false,
        "outputHidden": false,
        "inputHidden": false
      }
    },
    {
      "cell_type": "markdown",
      "source": [
        "<a id=\"viz\"></a>\n",
        "## Data Vizualization\n",
        "\nWe had a 1,000 features go into our regression model. We can only visualize a handful before the vizualization becomes overwhelming. We going to subset to only the features that are statistically signicant and then sample only 20 of those features. "
      ],
      "metadata": {
        "collapsed": false,
        "outputHidden": false,
        "inputHidden": false
      }
    },
    {
      "cell_type": "code",
      "source": [
        "sample = model[model['p values'] <= 0.01].sample(20).sort_values(by='coef')\n",
        "sample"
      ],
      "outputs": [
        {
          "output_type": "execute_result",
          "execution_count": 39,
          "data": {
            "text/plain": [
              "                 coef  Std Error  t values  p values\n",
              "dominant    -9.586149      2.398    -3.998     0.000\n",
              "youthful    -8.904375      1.867    -4.769     0.000\n",
              "tingling    -8.652246      3.029    -2.857     0.004\n",
              "place       -8.100875      2.829    -2.863     0.004\n",
              "additional  -8.046192      2.616    -3.076     0.002\n",
              "tastes      -8.021872      2.248    -3.569     0.000\n",
              "label       -7.245969      2.143    -3.382     0.001\n",
              "spanish     -7.125799      2.390    -2.982     0.003\n",
              "neat        -5.660147      2.151    -2.631     0.009\n",
              "hot         -4.623818      1.282    -3.606     0.000\n",
              "orange       3.769421      1.435     2.627     0.009\n",
              "chocolate    4.413375      1.718     2.568     0.010\n",
              "peach        4.542703      1.668     2.723     0.006\n",
              "powerful     5.924053      2.258     2.623     0.009\n",
              "box          6.854901      2.559     2.679     0.007\n",
              "pure         7.223701      2.571     2.810     0.005\n",
              "layered      7.566420      2.156     3.509     0.000\n",
              "silky        8.504231      2.044     4.161     0.000\n",
              "olive        8.772927      3.220     2.725     0.006\n",
              "excellent   12.100084      2.496     4.849     0.000"
            ],
            "text/html": [
              "<div>\n",
              "<style scoped>\n",
              "    .dataframe tbody tr th:only-of-type {\n",
              "        vertical-align: middle;\n",
              "    }\n",
              "\n",
              "    .dataframe tbody tr th {\n",
              "        vertical-align: top;\n",
              "    }\n",
              "\n",
              "    .dataframe thead th {\n",
              "        text-align: right;\n",
              "    }\n",
              "</style>\n",
              "<table border=\"1\" class=\"dataframe\">\n",
              "  <thead>\n",
              "    <tr style=\"text-align: right;\">\n",
              "      <th></th>\n",
              "      <th>coef</th>\n",
              "      <th>Std Error</th>\n",
              "      <th>t values</th>\n",
              "      <th>p values</th>\n",
              "    </tr>\n",
              "  </thead>\n",
              "  <tbody>\n",
              "    <tr>\n",
              "      <th>dominant</th>\n",
              "      <td>-9.586149</td>\n",
              "      <td>2.398</td>\n",
              "      <td>-3.998</td>\n",
              "      <td>0.000</td>\n",
              "    </tr>\n",
              "    <tr>\n",
              "      <th>youthful</th>\n",
              "      <td>-8.904375</td>\n",
              "      <td>1.867</td>\n",
              "      <td>-4.769</td>\n",
              "      <td>0.000</td>\n",
              "    </tr>\n",
              "    <tr>\n",
              "      <th>tingling</th>\n",
              "      <td>-8.652246</td>\n",
              "      <td>3.029</td>\n",
              "      <td>-2.857</td>\n",
              "      <td>0.004</td>\n",
              "    </tr>\n",
              "    <tr>\n",
              "      <th>place</th>\n",
              "      <td>-8.100875</td>\n",
              "      <td>2.829</td>\n",
              "      <td>-2.863</td>\n",
              "      <td>0.004</td>\n",
              "    </tr>\n",
              "    <tr>\n",
              "      <th>additional</th>\n",
              "      <td>-8.046192</td>\n",
              "      <td>2.616</td>\n",
              "      <td>-3.076</td>\n",
              "      <td>0.002</td>\n",
              "    </tr>\n",
              "    <tr>\n",
              "      <th>tastes</th>\n",
              "      <td>-8.021872</td>\n",
              "      <td>2.248</td>\n",
              "      <td>-3.569</td>\n",
              "      <td>0.000</td>\n",
              "    </tr>\n",
              "    <tr>\n",
              "      <th>label</th>\n",
              "      <td>-7.245969</td>\n",
              "      <td>2.143</td>\n",
              "      <td>-3.382</td>\n",
              "      <td>0.001</td>\n",
              "    </tr>\n",
              "    <tr>\n",
              "      <th>spanish</th>\n",
              "      <td>-7.125799</td>\n",
              "      <td>2.390</td>\n",
              "      <td>-2.982</td>\n",
              "      <td>0.003</td>\n",
              "    </tr>\n",
              "    <tr>\n",
              "      <th>neat</th>\n",
              "      <td>-5.660147</td>\n",
              "      <td>2.151</td>\n",
              "      <td>-2.631</td>\n",
              "      <td>0.009</td>\n",
              "    </tr>\n",
              "    <tr>\n",
              "      <th>hot</th>\n",
              "      <td>-4.623818</td>\n",
              "      <td>1.282</td>\n",
              "      <td>-3.606</td>\n",
              "      <td>0.000</td>\n",
              "    </tr>\n",
              "    <tr>\n",
              "      <th>orange</th>\n",
              "      <td>3.769421</td>\n",
              "      <td>1.435</td>\n",
              "      <td>2.627</td>\n",
              "      <td>0.009</td>\n",
              "    </tr>\n",
              "    <tr>\n",
              "      <th>chocolate</th>\n",
              "      <td>4.413375</td>\n",
              "      <td>1.718</td>\n",
              "      <td>2.568</td>\n",
              "      <td>0.010</td>\n",
              "    </tr>\n",
              "    <tr>\n",
              "      <th>peach</th>\n",
              "      <td>4.542703</td>\n",
              "      <td>1.668</td>\n",
              "      <td>2.723</td>\n",
              "      <td>0.006</td>\n",
              "    </tr>\n",
              "    <tr>\n",
              "      <th>powerful</th>\n",
              "      <td>5.924053</td>\n",
              "      <td>2.258</td>\n",
              "      <td>2.623</td>\n",
              "      <td>0.009</td>\n",
              "    </tr>\n",
              "    <tr>\n",
              "      <th>box</th>\n",
              "      <td>6.854901</td>\n",
              "      <td>2.559</td>\n",
              "      <td>2.679</td>\n",
              "      <td>0.007</td>\n",
              "    </tr>\n",
              "    <tr>\n",
              "      <th>pure</th>\n",
              "      <td>7.223701</td>\n",
              "      <td>2.571</td>\n",
              "      <td>2.810</td>\n",
              "      <td>0.005</td>\n",
              "    </tr>\n",
              "    <tr>\n",
              "      <th>layered</th>\n",
              "      <td>7.566420</td>\n",
              "      <td>2.156</td>\n",
              "      <td>3.509</td>\n",
              "      <td>0.000</td>\n",
              "    </tr>\n",
              "    <tr>\n",
              "      <th>silky</th>\n",
              "      <td>8.504231</td>\n",
              "      <td>2.044</td>\n",
              "      <td>4.161</td>\n",
              "      <td>0.000</td>\n",
              "    </tr>\n",
              "    <tr>\n",
              "      <th>olive</th>\n",
              "      <td>8.772927</td>\n",
              "      <td>3.220</td>\n",
              "      <td>2.725</td>\n",
              "      <td>0.006</td>\n",
              "    </tr>\n",
              "    <tr>\n",
              "      <th>excellent</th>\n",
              "      <td>12.100084</td>\n",
              "      <td>2.496</td>\n",
              "      <td>4.849</td>\n",
              "      <td>0.000</td>\n",
              "    </tr>\n",
              "  </tbody>\n",
              "</table>\n",
              "</div>"
            ]
          },
          "metadata": {}
        }
      ],
      "execution_count": 39,
      "metadata": {
        "collapsed": false,
        "outputHidden": false,
        "inputHidden": false
      }
    },
    {
      "cell_type": "markdown",
      "source": [
        "### Regression Intercept\n",
        "If reviewer wrote nothing in the review, then the whiskey's review score would be 86.3 based on our model. Each word in the review then adds or subtracts from the score based on coefficient associated with the term. \n",
        "\nRemeber here, that's it's not the count of the word's presence in the review. The value that you multiple the coefficient by is the tf-idf score of the term or phrase in that particular review. We'll cover tf-idf more comprohensively in the Apprentice Bootcamp class. "
      ],
      "metadata": {
        "collapsed": false,
        "outputHidden": false,
        "inputHidden": false
      }
    },
    {
      "cell_type": "code",
      "source": [
        "print(\"Baseline whisky review score: {}\".format(reg.intercept_))"
      ],
      "outputs": [
        {
          "output_type": "stream",
          "name": "stdout",
          "text": [
            "Baseline whisky review score: 86.33397451310411\n"
          ]
        }
      ],
      "execution_count": 41,
      "metadata": {
        "collapsed": false,
        "outputHidden": false,
        "inputHidden": false
      }
    },
    {
      "cell_type": "code",
      "source": [
        "from bokeh.io import show, output_notebook\n",
        "from bokeh.plotting import figure\n",
        "from bokeh.models import HoverTool\n",
        "\n",
        "output_notebook()\n",
        "\n",
        "p = figure(x_range=sample.index.tolist(), plot_height=350, \n",
        "           title=\"Whiskey Review Words\", tools='hover')\n",
        "p.vbar(x=sample.index.tolist(), top=sample['coef'], width=0.8)\n",
        "p.xaxis.major_label_orientation = \"vertical\"\n",
        "hover = p.select(dict(type=HoverTool))\n",
        "hover.tooltips = [('Word',' @x'), ('Coef', ' @top')]\n",
        "show(p)"
      ],
      "outputs": [
        {
          "output_type": "display_data",
          "data": {
            "text/html": [
              "\n",
              "    <div class=\"bk-root\">\n",
              "        <a href=\"https://bokeh.pydata.org\" target=\"_blank\" class=\"bk-logo bk-logo-small bk-logo-notebook\"></a>\n",
              "        <span id=\"39eb27ff-e25e-439e-bb9b-f1ac37f1f15e\">Loading BokehJS ...</span>\n",
              "    </div>"
            ]
          },
          "metadata": {}
        },
        {
          "output_type": "display_data",
          "data": {
            "application/javascript": [
              "\n",
              "(function(root) {\n",
              "  function now() {\n",
              "    return new Date();\n",
              "  }\n",
              "\n",
              "  var force = true;\n",
              "\n",
              "  if (typeof (root._bokeh_onload_callbacks) === \"undefined\" || force === true) {\n",
              "    root._bokeh_onload_callbacks = [];\n",
              "    root._bokeh_is_loading = undefined;\n",
              "  }\n",
              "\n",
              "  var JS_MIME_TYPE = 'application/javascript';\n",
              "  var HTML_MIME_TYPE = 'text/html';\n",
              "  var EXEC_MIME_TYPE = 'application/vnd.bokehjs_exec.v0+json';\n",
              "  var CLASS_NAME = 'output_bokeh rendered_html';\n",
              "\n",
              "  /**\n",
              "   * Render data to the DOM node\n",
              "   */\n",
              "  function render(props, node) {\n",
              "    var script = document.createElement(\"script\");\n",
              "    node.appendChild(script);\n",
              "  }\n",
              "\n",
              "  /**\n",
              "   * Handle when an output is cleared or removed\n",
              "   */\n",
              "  function handleClearOutput(event, handle) {\n",
              "    var cell = handle.cell;\n",
              "\n",
              "    var id = cell.output_area._bokeh_element_id;\n",
              "    var server_id = cell.output_area._bokeh_server_id;\n",
              "    // Clean up Bokeh references\n",
              "    if (id !== undefined) {\n",
              "      Bokeh.index[id].model.document.clear();\n",
              "      delete Bokeh.index[id];\n",
              "    }\n",
              "\n",
              "    if (server_id !== undefined) {\n",
              "      // Clean up Bokeh references\n",
              "      var cmd = \"from bokeh.io.state import curstate; print(curstate().uuid_to_server['\" + server_id + \"'].get_sessions()[0].document.roots[0]._id)\";\n",
              "      cell.notebook.kernel.execute(cmd, {\n",
              "        iopub: {\n",
              "          output: function(msg) {\n",
              "            var element_id = msg.content.text.trim();\n",
              "            Bokeh.index[element_id].model.document.clear();\n",
              "            delete Bokeh.index[element_id];\n",
              "          }\n",
              "        }\n",
              "      });\n",
              "      // Destroy server and session\n",
              "      var cmd = \"import bokeh.io.notebook as ion; ion.destroy_server('\" + server_id + \"')\";\n",
              "      cell.notebook.kernel.execute(cmd);\n",
              "    }\n",
              "  }\n",
              "\n",
              "  /**\n",
              "   * Handle when a new output is added\n",
              "   */\n",
              "  function handleAddOutput(event, handle) {\n",
              "    var output_area = handle.output_area;\n",
              "    var output = handle.output;\n",
              "\n",
              "    // limit handleAddOutput to display_data with EXEC_MIME_TYPE content only\n",
              "    if ((output.output_type != \"display_data\") || (!output.data.hasOwnProperty(EXEC_MIME_TYPE))) {\n",
              "      return\n",
              "    }\n",
              "\n",
              "    var toinsert = output_area.element.find(\".\" + CLASS_NAME.split(' ')[0]);\n",
              "\n",
              "    if (output.metadata[EXEC_MIME_TYPE][\"id\"] !== undefined) {\n",
              "      toinsert[0].firstChild.textContent = output.data[JS_MIME_TYPE];\n",
              "      // store reference to embed id on output_area\n",
              "      output_area._bokeh_element_id = output.metadata[EXEC_MIME_TYPE][\"id\"];\n",
              "    }\n",
              "    if (output.metadata[EXEC_MIME_TYPE][\"server_id\"] !== undefined) {\n",
              "      var bk_div = document.createElement(\"div\");\n",
              "      bk_div.innerHTML = output.data[HTML_MIME_TYPE];\n",
              "      var script_attrs = bk_div.children[0].attributes;\n",
              "      for (var i = 0; i < script_attrs.length; i++) {\n",
              "        toinsert[0].firstChild.setAttribute(script_attrs[i].name, script_attrs[i].value);\n",
              "      }\n",
              "      // store reference to server id on output_area\n",
              "      output_area._bokeh_server_id = output.metadata[EXEC_MIME_TYPE][\"server_id\"];\n",
              "    }\n",
              "  }\n",
              "\n",
              "  function register_renderer(events, OutputArea) {\n",
              "\n",
              "    function append_mime(data, metadata, element) {\n",
              "      // create a DOM node to render to\n",
              "      var toinsert = this.create_output_subarea(\n",
              "        metadata,\n",
              "        CLASS_NAME,\n",
              "        EXEC_MIME_TYPE\n",
              "      );\n",
              "      this.keyboard_manager.register_events(toinsert);\n",
              "      // Render to node\n",
              "      var props = {data: data, metadata: metadata[EXEC_MIME_TYPE]};\n",
              "      render(props, toinsert[0]);\n",
              "      element.append(toinsert);\n",
              "      return toinsert\n",
              "    }\n",
              "\n",
              "    /* Handle when an output is cleared or removed */\n",
              "    events.on('clear_output.CodeCell', handleClearOutput);\n",
              "    events.on('delete.Cell', handleClearOutput);\n",
              "\n",
              "    /* Handle when a new output is added */\n",
              "    events.on('output_added.OutputArea', handleAddOutput);\n",
              "\n",
              "    /**\n",
              "     * Register the mime type and append_mime function with output_area\n",
              "     */\n",
              "    OutputArea.prototype.register_mime_type(EXEC_MIME_TYPE, append_mime, {\n",
              "      /* Is output safe? */\n",
              "      safe: true,\n",
              "      /* Index of renderer in `output_area.display_order` */\n",
              "      index: 0\n",
              "    });\n",
              "  }\n",
              "\n",
              "  // register the mime type if in Jupyter Notebook environment and previously unregistered\n",
              "  if (root.Jupyter !== undefined) {\n",
              "    var events = require('base/js/events');\n",
              "    var OutputArea = require('notebook/js/outputarea').OutputArea;\n",
              "\n",
              "    if (OutputArea.prototype.mime_types().indexOf(EXEC_MIME_TYPE) == -1) {\n",
              "      register_renderer(events, OutputArea);\n",
              "    }\n",
              "  }\n",
              "\n",
              "  \n",
              "  if (typeof (root._bokeh_timeout) === \"undefined\" || force === true) {\n",
              "    root._bokeh_timeout = Date.now() + 5000;\n",
              "    root._bokeh_failed_load = false;\n",
              "  }\n",
              "\n",
              "  var NB_LOAD_WARNING = {'data': {'text/html':\n",
              "     \"<div style='background-color: #fdd'>\\n\"+\n",
              "     \"<p>\\n\"+\n",
              "     \"BokehJS does not appear to have successfully loaded. If loading BokehJS from CDN, this \\n\"+\n",
              "     \"may be due to a slow or bad network connection. Possible fixes:\\n\"+\n",
              "     \"</p>\\n\"+\n",
              "     \"<ul>\\n\"+\n",
              "     \"<li>re-rerun `output_notebook()` to attempt to load from CDN again, or</li>\\n\"+\n",
              "     \"<li>use INLINE resources instead, as so:</li>\\n\"+\n",
              "     \"</ul>\\n\"+\n",
              "     \"<code>\\n\"+\n",
              "     \"from bokeh.resources import INLINE\\n\"+\n",
              "     \"output_notebook(resources=INLINE)\\n\"+\n",
              "     \"</code>\\n\"+\n",
              "     \"</div>\"}};\n",
              "\n",
              "  function display_loaded() {\n",
              "    var el = document.getElementById(\"39eb27ff-e25e-439e-bb9b-f1ac37f1f15e\");\n",
              "    if (el != null) {\n",
              "      el.textContent = \"BokehJS is loading...\";\n",
              "    }\n",
              "    if (root.Bokeh !== undefined) {\n",
              "      if (el != null) {\n",
              "        el.textContent = \"BokehJS \" + root.Bokeh.version + \" successfully loaded.\";\n",
              "      }\n",
              "    } else if (Date.now() < root._bokeh_timeout) {\n",
              "      setTimeout(display_loaded, 100)\n",
              "    }\n",
              "  }\n",
              "\n\n",
              "  function run_callbacks() {\n",
              "    try {\n",
              "      root._bokeh_onload_callbacks.forEach(function(callback) { callback() });\n",
              "    }\n",
              "    finally {\n",
              "      delete root._bokeh_onload_callbacks\n",
              "    }\n",
              "    console.info(\"Bokeh: all callbacks have finished\");\n",
              "  }\n",
              "\n",
              "  function load_libs(js_urls, callback) {\n",
              "    root._bokeh_onload_callbacks.push(callback);\n",
              "    if (root._bokeh_is_loading > 0) {\n",
              "      console.log(\"Bokeh: BokehJS is being loaded, scheduling callback at\", now());\n",
              "      return null;\n",
              "    }\n",
              "    if (js_urls == null || js_urls.length === 0) {\n",
              "      run_callbacks();\n",
              "      return null;\n",
              "    }\n",
              "    console.log(\"Bokeh: BokehJS not loaded, scheduling load and callback at\", now());\n",
              "    root._bokeh_is_loading = js_urls.length;\n",
              "    for (var i = 0; i < js_urls.length; i++) {\n",
              "      var url = js_urls[i];\n",
              "      var s = document.createElement('script');\n",
              "      s.src = url;\n",
              "      s.async = false;\n",
              "      s.onreadystatechange = s.onload = function() {\n",
              "        root._bokeh_is_loading--;\n",
              "        if (root._bokeh_is_loading === 0) {\n",
              "          console.log(\"Bokeh: all BokehJS libraries loaded\");\n",
              "          run_callbacks()\n",
              "        }\n",
              "      };\n",
              "      s.onerror = function() {\n",
              "        console.warn(\"failed to load library \" + url);\n",
              "      };\n",
              "      console.log(\"Bokeh: injecting script tag for BokehJS library: \", url);\n",
              "      document.getElementsByTagName(\"head\")[0].appendChild(s);\n",
              "    }\n",
              "  };var element = document.getElementById(\"39eb27ff-e25e-439e-bb9b-f1ac37f1f15e\");\n",
              "  if (element == null) {\n",
              "    console.log(\"Bokeh: ERROR: autoload.js configured with elementid '39eb27ff-e25e-439e-bb9b-f1ac37f1f15e' but no matching script tag was found. \")\n",
              "    return false;\n",
              "  }\n",
              "\n",
              "  var js_urls = [\"https://cdn.pydata.org/bokeh/release/bokeh-0.12.14.min.js\", \"https://cdn.pydata.org/bokeh/release/bokeh-widgets-0.12.14.min.js\", \"https://cdn.pydata.org/bokeh/release/bokeh-tables-0.12.14.min.js\", \"https://cdn.pydata.org/bokeh/release/bokeh-gl-0.12.14.min.js\"];\n",
              "\n",
              "  var inline_js = [\n",
              "    function(Bokeh) {\n",
              "      Bokeh.set_log_level(\"info\");\n",
              "    },\n",
              "    \n",
              "    function(Bokeh) {\n",
              "      \n",
              "    },\n",
              "    function(Bokeh) {\n",
              "      console.log(\"Bokeh: injecting CSS: https://cdn.pydata.org/bokeh/release/bokeh-0.12.14.min.css\");\n",
              "      Bokeh.embed.inject_css(\"https://cdn.pydata.org/bokeh/release/bokeh-0.12.14.min.css\");\n",
              "      console.log(\"Bokeh: injecting CSS: https://cdn.pydata.org/bokeh/release/bokeh-widgets-0.12.14.min.css\");\n",
              "      Bokeh.embed.inject_css(\"https://cdn.pydata.org/bokeh/release/bokeh-widgets-0.12.14.min.css\");\n",
              "      console.log(\"Bokeh: injecting CSS: https://cdn.pydata.org/bokeh/release/bokeh-tables-0.12.14.min.css\");\n",
              "      Bokeh.embed.inject_css(\"https://cdn.pydata.org/bokeh/release/bokeh-tables-0.12.14.min.css\");\n",
              "    }\n",
              "  ];\n",
              "\n",
              "  function run_inline_js() {\n",
              "    \n",
              "    if ((root.Bokeh !== undefined) || (force === true)) {\n",
              "      for (var i = 0; i < inline_js.length; i++) {\n",
              "        inline_js[i].call(root, root.Bokeh);\n",
              "      }if (force === true) {\n",
              "        display_loaded();\n",
              "      }} else if (Date.now() < root._bokeh_timeout) {\n",
              "      setTimeout(run_inline_js, 100);\n",
              "    } else if (!root._bokeh_failed_load) {\n",
              "      console.log(\"Bokeh: BokehJS failed to load within specified timeout.\");\n",
              "      root._bokeh_failed_load = true;\n",
              "    } else if (force !== true) {\n",
              "      var cell = $(document.getElementById(\"39eb27ff-e25e-439e-bb9b-f1ac37f1f15e\")).parents('.cell').data().cell;\n",
              "      cell.output_area.append_execute_result(NB_LOAD_WARNING)\n",
              "    }\n",
              "\n",
              "  }\n",
              "\n",
              "  if (root._bokeh_is_loading === 0) {\n",
              "    console.log(\"Bokeh: BokehJS loaded, going straight to plotting\");\n",
              "    run_inline_js();\n",
              "  } else {\n",
              "    load_libs(js_urls, function() {\n",
              "      console.log(\"Bokeh: BokehJS plotting callback run at\", now());\n",
              "      run_inline_js();\n",
              "    });\n",
              "  }\n",
              "}(window));"
            ],
            "application/vnd.bokehjs_load.v0+json": "\n(function(root) {\n  function now() {\n    return new Date();\n  }\n\n  var force = true;\n\n  if (typeof (root._bokeh_onload_callbacks) === \"undefined\" || force === true) {\n    root._bokeh_onload_callbacks = [];\n    root._bokeh_is_loading = undefined;\n  }\n\n  \n\n  \n  if (typeof (root._bokeh_timeout) === \"undefined\" || force === true) {\n    root._bokeh_timeout = Date.now() + 5000;\n    root._bokeh_failed_load = false;\n  }\n\n  var NB_LOAD_WARNING = {'data': {'text/html':\n     \"<div style='background-color: #fdd'>\\n\"+\n     \"<p>\\n\"+\n     \"BokehJS does not appear to have successfully loaded. If loading BokehJS from CDN, this \\n\"+\n     \"may be due to a slow or bad network connection. Possible fixes:\\n\"+\n     \"</p>\\n\"+\n     \"<ul>\\n\"+\n     \"<li>re-rerun `output_notebook()` to attempt to load from CDN again, or</li>\\n\"+\n     \"<li>use INLINE resources instead, as so:</li>\\n\"+\n     \"</ul>\\n\"+\n     \"<code>\\n\"+\n     \"from bokeh.resources import INLINE\\n\"+\n     \"output_notebook(resources=INLINE)\\n\"+\n     \"</code>\\n\"+\n     \"</div>\"}};\n\n  function display_loaded() {\n    var el = document.getElementById(\"39eb27ff-e25e-439e-bb9b-f1ac37f1f15e\");\n    if (el != null) {\n      el.textContent = \"BokehJS is loading...\";\n    }\n    if (root.Bokeh !== undefined) {\n      if (el != null) {\n        el.textContent = \"BokehJS \" + root.Bokeh.version + \" successfully loaded.\";\n      }\n    } else if (Date.now() < root._bokeh_timeout) {\n      setTimeout(display_loaded, 100)\n    }\n  }\n\n\n  function run_callbacks() {\n    try {\n      root._bokeh_onload_callbacks.forEach(function(callback) { callback() });\n    }\n    finally {\n      delete root._bokeh_onload_callbacks\n    }\n    console.info(\"Bokeh: all callbacks have finished\");\n  }\n\n  function load_libs(js_urls, callback) {\n    root._bokeh_onload_callbacks.push(callback);\n    if (root._bokeh_is_loading > 0) {\n      console.log(\"Bokeh: BokehJS is being loaded, scheduling callback at\", now());\n      return null;\n    }\n    if (js_urls == null || js_urls.length === 0) {\n      run_callbacks();\n      return null;\n    }\n    console.log(\"Bokeh: BokehJS not loaded, scheduling load and callback at\", now());\n    root._bokeh_is_loading = js_urls.length;\n    for (var i = 0; i < js_urls.length; i++) {\n      var url = js_urls[i];\n      var s = document.createElement('script');\n      s.src = url;\n      s.async = false;\n      s.onreadystatechange = s.onload = function() {\n        root._bokeh_is_loading--;\n        if (root._bokeh_is_loading === 0) {\n          console.log(\"Bokeh: all BokehJS libraries loaded\");\n          run_callbacks()\n        }\n      };\n      s.onerror = function() {\n        console.warn(\"failed to load library \" + url);\n      };\n      console.log(\"Bokeh: injecting script tag for BokehJS library: \", url);\n      document.getElementsByTagName(\"head\")[0].appendChild(s);\n    }\n  };var element = document.getElementById(\"39eb27ff-e25e-439e-bb9b-f1ac37f1f15e\");\n  if (element == null) {\n    console.log(\"Bokeh: ERROR: autoload.js configured with elementid '39eb27ff-e25e-439e-bb9b-f1ac37f1f15e' but no matching script tag was found. \")\n    return false;\n  }\n\n  var js_urls = [\"https://cdn.pydata.org/bokeh/release/bokeh-0.12.14.min.js\", \"https://cdn.pydata.org/bokeh/release/bokeh-widgets-0.12.14.min.js\", \"https://cdn.pydata.org/bokeh/release/bokeh-tables-0.12.14.min.js\", \"https://cdn.pydata.org/bokeh/release/bokeh-gl-0.12.14.min.js\"];\n\n  var inline_js = [\n    function(Bokeh) {\n      Bokeh.set_log_level(\"info\");\n    },\n    \n    function(Bokeh) {\n      \n    },\n    function(Bokeh) {\n      console.log(\"Bokeh: injecting CSS: https://cdn.pydata.org/bokeh/release/bokeh-0.12.14.min.css\");\n      Bokeh.embed.inject_css(\"https://cdn.pydata.org/bokeh/release/bokeh-0.12.14.min.css\");\n      console.log(\"Bokeh: injecting CSS: https://cdn.pydata.org/bokeh/release/bokeh-widgets-0.12.14.min.css\");\n      Bokeh.embed.inject_css(\"https://cdn.pydata.org/bokeh/release/bokeh-widgets-0.12.14.min.css\");\n      console.log(\"Bokeh: injecting CSS: https://cdn.pydata.org/bokeh/release/bokeh-tables-0.12.14.min.css\");\n      Bokeh.embed.inject_css(\"https://cdn.pydata.org/bokeh/release/bokeh-tables-0.12.14.min.css\");\n    }\n  ];\n\n  function run_inline_js() {\n    \n    if ((root.Bokeh !== undefined) || (force === true)) {\n      for (var i = 0; i < inline_js.length; i++) {\n        inline_js[i].call(root, root.Bokeh);\n      }if (force === true) {\n        display_loaded();\n      }} else if (Date.now() < root._bokeh_timeout) {\n      setTimeout(run_inline_js, 100);\n    } else if (!root._bokeh_failed_load) {\n      console.log(\"Bokeh: BokehJS failed to load within specified timeout.\");\n      root._bokeh_failed_load = true;\n    } else if (force !== true) {\n      var cell = $(document.getElementById(\"39eb27ff-e25e-439e-bb9b-f1ac37f1f15e\")).parents('.cell').data().cell;\n      cell.output_area.append_execute_result(NB_LOAD_WARNING)\n    }\n\n  }\n\n  if (root._bokeh_is_loading === 0) {\n    console.log(\"Bokeh: BokehJS loaded, going straight to plotting\");\n    run_inline_js();\n  } else {\n    load_libs(js_urls, function() {\n      console.log(\"Bokeh: BokehJS plotting callback run at\", now());\n      run_inline_js();\n    });\n  }\n}(window));"
          },
          "metadata": {}
        },
        {
          "output_type": "display_data",
          "data": {
            "text/html": [
              "\n",
              "<div class=\"bk-root\">\n",
              "    <div class=\"bk-plotdiv\" id=\"c2bca2d9-d2d6-465d-a7a9-2c77129cfe27\"></div>\n",
              "</div>"
            ]
          },
          "metadata": {}
        },
        {
          "output_type": "display_data",
          "data": {
            "application/vnd.bokehjs_exec.v0+json": "",
            "application/javascript": [
              "(function(root) {\n",
              "  function embed_document(root) {\n",
              "    \n",
              "  var docs_json = {\"789a285f-29cc-4d49-b343-f498323cc28a\":{\"roots\":{\"references\":[{\"attributes\":{\"formatter\":{\"id\":\"08c3ee94-867b-4bb3-9b6a-00804e326632\",\"type\":\"BasicTickFormatter\"},\"plot\":{\"id\":\"0dd37d87-9ba6-4296-9035-b4d8397893b8\",\"subtype\":\"Figure\",\"type\":\"Plot\"},\"ticker\":{\"id\":\"291de8a3-88e8-4880-91a1-14556b472b4f\",\"type\":\"BasicTicker\"}},\"id\":\"89e2b9b2-c087-441f-9713-109f4071f39f\",\"type\":\"LinearAxis\"},{\"attributes\":{},\"id\":\"7407ef3f-07ca-460b-b818-6f9357443305\",\"type\":\"CategoricalScale\"},{\"attributes\":{\"plot\":null,\"text\":\"Whiskey Review Words\"},\"id\":\"ff19949c-d841-42df-9df4-e33ec4bc3b32\",\"type\":\"Title\"},{\"attributes\":{\"callback\":null,\"factors\":[\"dominant\",\"youthful\",\"tingling\",\"place\",\"additional\",\"tastes\",\"label\",\"spanish\",\"neat\",\"hot\",\"orange\",\"chocolate\",\"peach\",\"powerful\",\"box\",\"pure\",\"layered\",\"silky\",\"olive\",\"excellent\"]},\"id\":\"973cf302-f9eb-4d61-bfd5-27f8f11e7f2b\",\"type\":\"FactorRange\"},{\"attributes\":{\"fill_alpha\":{\"value\":0.1},\"fill_color\":{\"value\":\"#1f77b4\"},\"line_alpha\":{\"value\":0.1},\"line_color\":{\"value\":\"#1f77b4\"},\"top\":{\"field\":\"top\"},\"width\":{\"value\":0.8},\"x\":{\"field\":\"x\"}},\"id\":\"4e705263-17c0-4b55-b7c5-a5fa85699075\",\"type\":\"VBar\"},{\"attributes\":{\"callback\":null,\"column_names\":[\"x\",\"top\"],\"data\":{\"top\":{\"__ndarray__\":\"qDBMwhssI8B2zeo1Cs8hwPvyZUDzTSHABXRZ4aUzIMBYt5x/phcgwH+gjs8yCyDA/4WYUt/7HMCLgQhj0YAcwK2TY6H9oxbAeuGeFsp+EsC1DBUqxicOQCi8u8FLpxFAH9VKcLorEkASADUSO7IXQBlu9D1raxtAjBtU5xHlHEA/PzaoA0QeQFjGkYAqAiFABjeSHL2LIUD0Y25APjMoQA==\",\"dtype\":\"float64\",\"shape\":[20]},\"x\":[\"dominant\",\"youthful\",\"tingling\",\"place\",\"additional\",\"tastes\",\"label\",\"spanish\",\"neat\",\"hot\",\"orange\",\"chocolate\",\"peach\",\"powerful\",\"box\",\"pure\",\"layered\",\"silky\",\"olive\",\"excellent\"]}},\"id\":\"d9f11bac-2c94-4af3-b8af-69a9e4e46106\",\"type\":\"ColumnDataSource\"},{\"attributes\":{},\"id\":\"64606e5a-f9a8-47de-a90b-507f504ae81f\",\"type\":\"LinearScale\"},{\"attributes\":{\"active_drag\":\"auto\",\"active_inspect\":\"auto\",\"active_scroll\":\"auto\",\"active_tap\":\"auto\",\"tools\":[{\"id\":\"0fe616ed-778f-4716-8f17-f00b75176789\",\"type\":\"HoverTool\"}]},\"id\":\"79ab9948-d762-449a-ab62-f39d2f9aa5c2\",\"type\":\"Toolbar\"},{\"attributes\":{},\"id\":\"291de8a3-88e8-4880-91a1-14556b472b4f\",\"type\":\"BasicTicker\"},{\"attributes\":{\"callback\":null},\"id\":\"319b016a-3eac-4e71-b540-4a610fd36426\",\"type\":\"DataRange1d\"},{\"attributes\":{\"below\":[{\"id\":\"b19de888-0d7d-4b4d-b49b-60df52fc6ac8\",\"type\":\"CategoricalAxis\"}],\"left\":[{\"id\":\"89e2b9b2-c087-441f-9713-109f4071f39f\",\"type\":\"LinearAxis\"}],\"plot_height\":350,\"renderers\":[{\"id\":\"b19de888-0d7d-4b4d-b49b-60df52fc6ac8\",\"type\":\"CategoricalAxis\"},{\"id\":\"1306b19f-85cc-484a-af72-768151ba94ea\",\"type\":\"Grid\"},{\"id\":\"89e2b9b2-c087-441f-9713-109f4071f39f\",\"type\":\"LinearAxis\"},{\"id\":\"96c10478-0081-40fc-aafb-329c1932c65d\",\"type\":\"Grid\"},{\"id\":\"b9029820-a85d-4ae0-a0a5-1f9dd196a4aa\",\"type\":\"GlyphRenderer\"}],\"title\":{\"id\":\"ff19949c-d841-42df-9df4-e33ec4bc3b32\",\"type\":\"Title\"},\"toolbar\":{\"id\":\"79ab9948-d762-449a-ab62-f39d2f9aa5c2\",\"type\":\"Toolbar\"},\"x_range\":{\"id\":\"973cf302-f9eb-4d61-bfd5-27f8f11e7f2b\",\"type\":\"FactorRange\"},\"x_scale\":{\"id\":\"7407ef3f-07ca-460b-b818-6f9357443305\",\"type\":\"CategoricalScale\"},\"y_range\":{\"id\":\"319b016a-3eac-4e71-b540-4a610fd36426\",\"type\":\"DataRange1d\"},\"y_scale\":{\"id\":\"64606e5a-f9a8-47de-a90b-507f504ae81f\",\"type\":\"LinearScale\"}},\"id\":\"0dd37d87-9ba6-4296-9035-b4d8397893b8\",\"subtype\":\"Figure\",\"type\":\"Plot\"},{\"attributes\":{\"formatter\":{\"id\":\"a04ee8eb-493a-42c8-9f4e-34d3bea3bc3f\",\"type\":\"CategoricalTickFormatter\"},\"major_label_orientation\":\"vertical\",\"plot\":{\"id\":\"0dd37d87-9ba6-4296-9035-b4d8397893b8\",\"subtype\":\"Figure\",\"type\":\"Plot\"},\"ticker\":{\"id\":\"974b407f-4377-4f43-99bd-f8e6d3b41157\",\"type\":\"CategoricalTicker\"}},\"id\":\"b19de888-0d7d-4b4d-b49b-60df52fc6ac8\",\"type\":\"CategoricalAxis\"},{\"attributes\":{\"callback\":null,\"tooltips\":[[\"Word\",\" @x\"],[\"Coef\",\" @top\"]]},\"id\":\"0fe616ed-778f-4716-8f17-f00b75176789\",\"type\":\"HoverTool\"},{\"attributes\":{\"fill_color\":{\"value\":\"#1f77b4\"},\"line_color\":{\"value\":\"#1f77b4\"},\"top\":{\"field\":\"top\"},\"width\":{\"value\":0.8},\"x\":{\"field\":\"x\"}},\"id\":\"49a72045-699e-4bfe-bc5e-25b4c76fe21c\",\"type\":\"VBar\"},{\"attributes\":{\"plot\":{\"id\":\"0dd37d87-9ba6-4296-9035-b4d8397893b8\",\"subtype\":\"Figure\",\"type\":\"Plot\"},\"ticker\":{\"id\":\"974b407f-4377-4f43-99bd-f8e6d3b41157\",\"type\":\"CategoricalTicker\"}},\"id\":\"1306b19f-85cc-484a-af72-768151ba94ea\",\"type\":\"Grid\"},{\"attributes\":{},\"id\":\"974b407f-4377-4f43-99bd-f8e6d3b41157\",\"type\":\"CategoricalTicker\"},{\"attributes\":{\"data_source\":{\"id\":\"d9f11bac-2c94-4af3-b8af-69a9e4e46106\",\"type\":\"ColumnDataSource\"},\"glyph\":{\"id\":\"49a72045-699e-4bfe-bc5e-25b4c76fe21c\",\"type\":\"VBar\"},\"hover_glyph\":null,\"muted_glyph\":null,\"nonselection_glyph\":{\"id\":\"4e705263-17c0-4b55-b7c5-a5fa85699075\",\"type\":\"VBar\"},\"selection_glyph\":null,\"view\":{\"id\":\"6cdb771d-bfe9-455e-a8d5-c814f58d7937\",\"type\":\"CDSView\"}},\"id\":\"b9029820-a85d-4ae0-a0a5-1f9dd196a4aa\",\"type\":\"GlyphRenderer\"},{\"attributes\":{},\"id\":\"a04ee8eb-493a-42c8-9f4e-34d3bea3bc3f\",\"type\":\"CategoricalTickFormatter\"},{\"attributes\":{},\"id\":\"08c3ee94-867b-4bb3-9b6a-00804e326632\",\"type\":\"BasicTickFormatter\"},{\"attributes\":{\"source\":{\"id\":\"d9f11bac-2c94-4af3-b8af-69a9e4e46106\",\"type\":\"ColumnDataSource\"}},\"id\":\"6cdb771d-bfe9-455e-a8d5-c814f58d7937\",\"type\":\"CDSView\"},{\"attributes\":{\"dimension\":1,\"plot\":{\"id\":\"0dd37d87-9ba6-4296-9035-b4d8397893b8\",\"subtype\":\"Figure\",\"type\":\"Plot\"},\"ticker\":{\"id\":\"291de8a3-88e8-4880-91a1-14556b472b4f\",\"type\":\"BasicTicker\"}},\"id\":\"96c10478-0081-40fc-aafb-329c1932c65d\",\"type\":\"Grid\"}],\"root_ids\":[\"0dd37d87-9ba6-4296-9035-b4d8397893b8\"]},\"title\":\"Bokeh Application\",\"version\":\"0.12.14\"}};\n",
              "  var render_items = [{\"docid\":\"789a285f-29cc-4d49-b343-f498323cc28a\",\"elementid\":\"c2bca2d9-d2d6-465d-a7a9-2c77129cfe27\",\"modelid\":\"0dd37d87-9ba6-4296-9035-b4d8397893b8\"}];\n",
              "  root.Bokeh.embed.embed_items_notebook(docs_json, render_items);\n",
              "\n",
              "  }\n",
              "  if (root.Bokeh !== undefined) {\n",
              "    embed_document(root);\n",
              "  } else {\n",
              "    var attempts = 0;\n",
              "    var timer = setInterval(function(root) {\n",
              "      if (root.Bokeh !== undefined) {\n",
              "        embed_document(root);\n",
              "        clearInterval(timer);\n",
              "      }\n",
              "      attempts++;\n",
              "      if (attempts > 100) {\n",
              "        console.log(\"Bokeh: ERROR: Unable to run BokehJS code because BokehJS library is missing\")\n",
              "        clearInterval(timer);\n",
              "      }\n",
              "    }, 10, root)\n",
              "  }\n",
              "})(window);"
            ]
          },
          "metadata": {
            "application/vnd.bokehjs_exec.v0+json": {
              "id": "0dd37d87-9ba6-4296-9035-b4d8397893b8"
            }
          }
        }
      ],
      "execution_count": 43,
      "metadata": {
        "collapsed": false,
        "outputHidden": false,
        "inputHidden": false
      }
    }
  ],
  "metadata": {
    "kernel_info": {
      "name": "python3"
    },
    "language_info": {
      "version": "3.5.5",
      "pygments_lexer": "ipython3",
      "file_extension": ".py",
      "name": "python",
      "nbconvert_exporter": "python",
      "codemirror_mode": {
        "name": "ipython",
        "version": 3
      },
      "mimetype": "text/x-python"
    },
    "kernelspec": {
      "name": "python3",
      "language": "python",
      "display_name": "Python 3"
    },
    "nteract": {
      "version": "0.11.2"
    }
  },
  "nbformat": 4,
  "nbformat_minor": 4
}