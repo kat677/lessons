{
  "cells": [
    {
      "cell_type": "markdown",
      "source": [
        "# Evaluating Classifiers\n",
        "This will be a review session on evaluating classification models using confusion matrices, precision, recall, and ROC curves. "
      ],
      "metadata": {
        "collapsed": false,
        "outputHidden": false,
        "inputHidden": false
      }
    },
    {
      "cell_type": "code",
      "source": [
        "import pandas as pd\n",
        "import matplotlib.pyplot as plt\n",
        "import seaborn as sns; sns.set_color_codes()\n",
        "\n",
        "from sklearn.datasets import make_classification\n",
        "from sklearn.model_selection import train_test_split\n",
        "from sklearn.linear_model import LogisticRegression\n",
        "from sklearn.metrics import confusion_matrix, roc_curve, auc, accuracy_score\n",
        "\n%matplotlib inline"
      ],
      "outputs": [],
      "execution_count": 122,
      "metadata": {
        "collapsed": false,
        "outputHidden": false,
        "inputHidden": false
      }
    },
    {
      "cell_type": "markdown",
      "source": [
        "## Generate Sample Data"
      ],
      "metadata": {}
    },
    {
      "cell_type": "code",
      "source": [
        "sample = make_classification(n_samples=1000, n_features = 20)\n",
        "X = sample[0]\n",
        "y = sample[1]"
      ],
      "outputs": [],
      "execution_count": 83,
      "metadata": {
        "collapsed": false,
        "outputHidden": false,
        "inputHidden": false
      }
    },
    {
      "cell_type": "code",
      "source": [
        "train_X, test_X, train_y, test_y = train_test_split(X,y)"
      ],
      "outputs": [],
      "execution_count": 84,
      "metadata": {
        "collapsed": false,
        "outputHidden": false,
        "inputHidden": false
      }
    },
    {
      "cell_type": "markdown",
      "source": [
        "## Logistic Regression"
      ],
      "metadata": {}
    },
    {
      "cell_type": "code",
      "source": [
        "#Insitiate\n",
        "lr = LogisticRegression()\n",
        "\n",
        "#Fit\n",
        "lr.fit(train_X, train_y)\n",
        "\n",
        "#Predict\n",
        "test_y_proba = lr.predict_proba(test_X)\n",
        "\n",
        "#Predict Probabilities of + Class\n",
        "test_y_pred = lr.predict(test_X)"
      ],
      "outputs": [],
      "execution_count": 110,
      "metadata": {
        "collapsed": false,
        "outputHidden": false,
        "inputHidden": false
      }
    },
    {
      "cell_type": "markdown",
      "source": [
        "## Accuracy"
      ],
      "metadata": {}
    },
    {
      "cell_type": "code",
      "source": [
        "accuracy = accuracy_score(test_y, test_y_pred)\n",
        "print(\"Accuracy: {}\".format(accuracy))"
      ],
      "outputs": [
        {
          "output_type": "stream",
          "name": "stdout",
          "text": [
            "Accuracy: 0.832\n"
          ]
        }
      ],
      "execution_count": 126,
      "metadata": {
        "collapsed": false,
        "outputHidden": false,
        "inputHidden": false
      }
    },
    {
      "cell_type": "markdown",
      "source": [
        "83% of the time we are correctly predicting an observation to be in Group A or B. However, when does this metric begin to break down? \n",
        "\n",
        "Are we making systematic types of error? \n",
        "\n",
        "* *Type I Error*: Are we more often guessing that an observation is in Group A when it is actually in Group? Aka False Positive \n",
        "\n* *Type II Error*: Are we not detecting all the observations that are in Group A? aka False Negative."
      ],
      "metadata": {}
    },
    {
      "cell_type": "code",
      "source": [
        "df = pd.DataFrame(test_X)\n",
        "df['y'] = test_y\n",
        "df['y_pred'] = test_y_pred\n",
        "df['y_proba'] = test_y_proba[:,1]"
      ],
      "outputs": [],
      "execution_count": 92,
      "metadata": {
        "collapsed": false,
        "outputHidden": false,
        "inputHidden": false
      }
    },
    {
      "cell_type": "markdown",
      "source": [
        "## Confusion Matrix"
      ],
      "metadata": {}
    },
    {
      "cell_type": "code",
      "source": [
        "confusion_matrix(test_y, test_y_pred)"
      ],
      "outputs": [
        {
          "output_type": "execute_result",
          "execution_count": 88,
          "data": {
            "text/plain": [
              "array([[110,  17],\n",
              "       [ 25,  98]])"
            ]
          },
          "metadata": {}
        }
      ],
      "execution_count": 88,
      "metadata": {
        "collapsed": false,
        "outputHidden": false,
        "inputHidden": false
      }
    },
    {
      "cell_type": "code",
      "source": [
        "tn, fp, fn, tp = confusion_matrix(test_y, test_y_pred).ravel()\n",
        "\n",
        "print(\"True Negatives: {}\".format(tn))\n",
        "print(\"\")\n",
        "print(\"False Positives: {}\".format(fp))\n",
        "print(\"\")\n",
        "print(\"False Negatives: {}\".format(fn))\n",
        "print(\"\")\n",
        "print(\"True Positives: {}\". format(tp))"
      ],
      "outputs": [
        {
          "output_type": "stream",
          "name": "stdout",
          "text": [
            "True Negatives: 110\n",
            "\n",
            "False Positives: 17\n",
            "\n",
            "False Negatives: 25\n",
            "\n",
            "True Positives: 98\n"
          ]
        }
      ],
      "execution_count": 121,
      "metadata": {
        "collapsed": false,
        "outputHidden": false,
        "inputHidden": false
      }
    },
    {
      "cell_type": "markdown",
      "source": [
        "## Probability Distribution"
      ],
      "metadata": {
        "collapsed": false,
        "outputHidden": false,
        "inputHidden": false
      }
    },
    {
      "cell_type": "code",
      "source": [
        "ax = sns.kdeplot(df[df['y'] == 1]['y_proba'], shade=True, label=\"Group A\")\n",
        "ax = sns.kdeplot(df[df['y'] == 0]['y_proba'], shade=True, label=\"Group B\")\n",
        "ax.axvline(.5, color='r', linestyle='--')\n",
        "plt.xlabel('Probability of Oberservation being in Group A')\n",
        "plt.ylabel('Frequency');"
      ],
      "outputs": [
        {
          "output_type": "display_data",
          "data": {
            "text/plain": [
              "<Figure size 432x288 with 1 Axes>"
            ],
            "image/png": "[encoded data removed]"
          },
          "metadata": {}
        }
      ],
      "execution_count": 118,
      "metadata": {
        "collapsed": false,
        "outputHidden": false,
        "inputHidden": false
      }
    },
    {
      "cell_type": "markdown",
      "source": [
        "## ROC Curve"
      ],
      "metadata": {
        "collapsed": false,
        "outputHidden": false,
        "inputHidden": false
      }
    },
    {
      "cell_type": "code",
      "source": [
        "fpr, tpr, _ = roc_curve(test_y, test_y_proba[:,1])\n",
        "auc_ = auc(fpr, tpr)"
      ],
      "outputs": [],
      "execution_count": 112,
      "metadata": {
        "collapsed": false,
        "outputHidden": false,
        "inputHidden": false
      }
    },
    {
      "cell_type": "code",
      "source": [
        "ax = sns.lineplot(fpr, tpr, label=\"AUC: {}\".format(auc_))\n",
        "plt.xlabel('False Positive Rate')\n",
        "plt.ylabel('True Positive Rate');"
      ],
      "outputs": [
        {
          "output_type": "display_data",
          "data": {
            "text/plain": [
              "<Figure size 432x288 with 1 Axes>"
            ],
            "image/png": "[encoded data removed]"
          },
          "metadata": {}
        }
      ],
      "execution_count": 115,
      "metadata": {
        "collapsed": false,
        "outputHidden": false,
        "inputHidden": false
      }
    },
    {
      "cell_type": "code",
      "source": [],
      "outputs": [],
      "execution_count": null,
      "metadata": {
        "collapsed": false,
        "outputHidden": false,
        "inputHidden": false
      }
    }
  ],
  "metadata": {
    "kernel_info": {
      "name": "deeplearn"
    },
    "language_info": {
      "name": "python",
      "version": "3.6.5",
      "mimetype": "text/x-python",
      "codemirror_mode": {
        "name": "ipython",
        "version": 3
      },
      "pygments_lexer": "ipython3",
      "nbconvert_exporter": "python",
      "file_extension": ".py"
    },
    "kernelspec": {
      "name": "deeplearn",
      "language": "python",
      "display_name": "deepLearn"
    },
    "nteract": {
      "version": "0.11.6"
    }
  },
  "nbformat": 4,
  "nbformat_minor": 4
}