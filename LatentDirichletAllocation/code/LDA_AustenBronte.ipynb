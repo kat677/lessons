{
  "cells": [
    {
      "cell_type": "markdown",
      "source": [
        "# Latent Dirichlet Allocation (LDA)\n",
        "## A Litterary Introduction: *Jane Austen V. Charlotte Bronte*\n",
        "Despite being born nearly forty years apart, modern fans often pit Jane Austen & Charlotte Bronte against one another in a battle for litterary  supremacy. The battle centers around the topics of education for women, courting, and marriage. The authors' similiar backgrounds naturally draw comparisons, but the modern fascination is probably due to novelility of British women publishing novels during the early 19th century. \n",
        "\n",
        "Can we help close a litterary battle for supremacy and simply acknowledge that the authors addressed different topics and deserve to be acknowledged as excellent authors each in their own right?\n",
        "\nWe're going to apply Latent Dirichlet Allocation a machine learning alogrithm for topic modeling to each of the author's novels to compare the distribution of topics in their novels."
      ],
      "metadata": {}
    },
    {
      "cell_type": "code",
      "source": [
        "import numpy as np\n",
        "import gensim\n",
        "import os\n",
        "import re\n",
        "\n",
        "from gensim.utils import smart_open, simple_preprocess\n",
        "from gensim.parsing.preprocessing import STOPWORDS\n",
        "from gensim import corpora\n",
        "\nimport pandas as pd"
      ],
      "outputs": [],
      "execution_count": 40,
      "metadata": {
        "collapsed": false,
        "outputHidden": false,
        "inputHidden": false
      }
    },
    {
      "cell_type": "markdown",
      "source": [
        "## Novel Data\n",
        "I grabbed the novel data pre-split into a bunch of smaller chuncks"
      ],
      "metadata": {}
    },
    {
      "cell_type": "code",
      "source": [
        "path = './data/austen-brontë-split'"
      ],
      "outputs": [],
      "execution_count": 14,
      "metadata": {
        "collapsed": false,
        "outputHidden": false,
        "inputHidden": false
      }
    },
    {
      "cell_type": "markdown",
      "source": [
        "## Text Preprocessing"
      ],
      "metadata": {
        "collapsed": false,
        "outputHidden": false,
        "inputHidden": false
      }
    },
    {
      "cell_type": "code",
      "source": [
        "titles = [t[:-4] for t in os.listdir(path)]"
      ],
      "outputs": [],
      "execution_count": 17,
      "metadata": {
        "collapsed": false,
        "outputHidden": false,
        "inputHidden": false
      }
    },
    {
      "cell_type": "code",
      "source": [
        "STOPWORDS = set(STOPWORDS).union(set(['said', 'mr', 'mrs']))\n",
        "\n",
        "def tokenize(text):\n",
        "    return [token for token in simple_preprocess(text) if token not in STOPWORDS]"
      ],
      "outputs": [],
      "execution_count": 5,
      "metadata": {
        "collapsed": false,
        "outputHidden": false,
        "inputHidden": false
      }
    },
    {
      "cell_type": "code",
      "source": [
        "tokenize(\"Hello World! This a test of the tokenization method\")"
      ],
      "outputs": [
        {
          "output_type": "execute_result",
          "execution_count": 6,
          "data": {
            "text/plain": [
              "['hello', 'world', 'test', 'tokenization', 'method']"
            ]
          },
          "metadata": {}
        }
      ],
      "execution_count": 6,
      "metadata": {
        "collapsed": false,
        "outputHidden": false,
        "inputHidden": false
      }
    },
    {
      "cell_type": "markdown",
      "source": [
        "## Python Genators\n",
        "Here we use a new pythonic thingy: the `yield` statement in our fucntion. This allows us to iterate over a bunch of documents without actually reading them into memory. You can see how we use this fucntion later on. "
      ],
      "metadata": {}
    },
    {
      "cell_type": "code",
      "source": [
        "def doc_stream(path):\n",
        "    for f in os.listdir(path):\n",
        "        with open(os.path.join(path,f)) as t:\n",
        "            text = t.read().strip('\\n')\n",
        "            tokens = tokenize(str(text))\n",
        "            yield tokens"
      ],
      "outputs": [],
      "execution_count": 7,
      "metadata": {
        "collapsed": false,
        "outputHidden": false,
        "inputHidden": false
      }
    },
    {
      "cell_type": "markdown",
      "source": [
        "## Gensim LDA Topic Modeling"
      ],
      "metadata": {}
    },
    {
      "cell_type": "code",
      "source": [
        "# A Dictionary Representation of all the words in our corpus\n",
        "id2word = corpora.Dictionary(doc_stream(path))"
      ],
      "outputs": [],
      "execution_count": 18,
      "metadata": {
        "collapsed": false,
        "outputHidden": false,
        "inputHidden": false
      }
    },
    {
      "cell_type": "code",
      "source": [
        "# Let's remove extreme values from the dataset\n",
        "id2word.filter_extremes(no_below=10, no_above=0.75)"
      ],
      "outputs": [],
      "execution_count": 20,
      "metadata": {
        "collapsed": false,
        "outputHidden": false,
        "inputHidden": false
      }
    },
    {
      "cell_type": "code",
      "source": [
        "# a bag of words(bow) representation of our corpus\n",
        "# Note: we haven't actually read any text into memory here\n",
        "corpus = [id2word.doc2bow(text) for text in doc_stream(path)]"
      ],
      "outputs": [],
      "execution_count": 41,
      "metadata": {
        "collapsed": false,
        "outputHidden": false,
        "inputHidden": false
      }
    },
    {
      "cell_type": "code",
      "source": [
        "lda = gensim.models.ldamodel.LdaModel(corpus=corpus,\n",
        "                                     id2word=id2word,\n",
        "                                     random_state=723812,\n",
        "                                     num_topics = 15,\n",
        "                                     passes=10)"
      ],
      "outputs": [],
      "execution_count": 23,
      "metadata": {
        "collapsed": false,
        "outputHidden": false,
        "inputHidden": false
      }
    },
    {
      "cell_type": "code",
      "source": [
        "words = [re.findall(r'\"([^\"]*)\"',t[1]) for t in lda.print_topics()]"
      ],
      "outputs": [],
      "execution_count": 47,
      "metadata": {
        "collapsed": false,
        "outputHidden": false,
        "inputHidden": false
      }
    },
    {
      "cell_type": "code",
      "source": [
        "topics = [' '.join(t[2:5]) for t in words]"
      ],
      "outputs": [],
      "execution_count": 58,
      "metadata": {
        "collapsed": false,
        "outputHidden": false,
        "inputHidden": false
      }
    },
    {
      "cell_type": "code",
      "source": [
        "topics"
      ],
      "outputs": [
        {
          "output_type": "execute_result",
          "execution_count": 59,
          "data": {
            "text/plain": [
              "['years rochester adele',\n",
              " 'wife living sir',\n",
              " 'think know thing',\n",
              " 'think colonel wickham',\n",
              " 'bingley miss bennet',\n",
              " 'madame thought know',\n",
              " 'mother john elinor',\n",
              " 'like ingram rochester',\n",
              " 'harriet weston knightley',\n",
              " 'know think sister',\n",
              " 'bennet know lydia',\n",
              " 'heard eliza day',\n",
              " 'thought long room',\n",
              " 'elinor shall come',\n",
              " 'house like day']"
            ]
          },
          "metadata": {}
        }
      ],
      "execution_count": 59,
      "metadata": {
        "collapsed": false,
        "outputHidden": false,
        "inputHidden": false
      }
    },
    {
      "cell_type": "markdown",
      "source": [
        "## Comparison"
      ],
      "metadata": {}
    },
    {
      "cell_type": "code",
      "source": [
        "distro = [lda[d] for d in corpus]"
      ],
      "outputs": [],
      "execution_count": 62,
      "metadata": {
        "collapsed": false,
        "outputHidden": false,
        "inputHidden": false
      }
    },
    {
      "cell_type": "code",
      "source": [
        "distro[0]"
      ],
      "outputs": [
        {
          "output_type": "execute_result",
          "execution_count": 63,
          "data": {
            "text/plain": [
              "[(2, 0.22452806), (4, 0.24244052), (8, 0.4533502), (9, 0.077866085)]"
            ]
          },
          "metadata": {}
        }
      ],
      "execution_count": 63,
      "metadata": {
        "collapsed": false,
        "outputHidden": false,
        "inputHidden": false
      }
    },
    {
      "cell_type": "code",
      "source": [
        "def update(doc):\n",
        "        d_dist = {k:0 for k in range(0,15)}\n",
        "        for t in doc:\n",
        "            d_dist[t[0]] = t[1]\n",
        "        return d_dist\n",
        "    \n",
        "new_distro = [update(d) for d in distro]"
      ],
      "outputs": [],
      "execution_count": 64,
      "metadata": {
        "collapsed": false,
        "outputHidden": false,
        "inputHidden": false
      }
    },
    {
      "cell_type": "code",
      "source": [
        "new_distro[0]"
      ],
      "outputs": [
        {
          "output_type": "execute_result",
          "execution_count": 65,
          "data": {
            "text/plain": [
              "{0: 0,\n",
              " 1: 0,\n",
              " 2: 0.22452806,\n",
              " 3: 0,\n",
              " 4: 0.24244052,\n",
              " 5: 0,\n",
              " 6: 0,\n",
              " 7: 0,\n",
              " 8: 0.4533502,\n",
              " 9: 0.077866085,\n",
              " 10: 0,\n",
              " 11: 0,\n",
              " 12: 0,\n",
              " 13: 0,\n",
              " 14: 0}"
            ]
          },
          "metadata": {}
        }
      ],
      "execution_count": 65,
      "metadata": {
        "collapsed": false,
        "outputHidden": false,
        "inputHidden": false
      }
    },
    {
      "cell_type": "code",
      "source": [
        "df = pd.DataFrame.from_records(new_distro, index=titles)\n",
        "df.columns = topics"
      ],
      "outputs": [],
      "execution_count": 72,
      "metadata": {
        "collapsed": false,
        "outputHidden": false,
        "inputHidden": false
      }
    },
    {
      "cell_type": "code",
      "source": [
        "df.head()"
      ],
      "outputs": [
        {
          "output_type": "execute_result",
          "execution_count": 73,
          "data": {
            "text/html": [
              "<div>\n",
              "<style scoped>\n",
              "    .dataframe tbody tr th:only-of-type {\n",
              "        vertical-align: middle;\n",
              "    }\n",
              "\n",
              "    .dataframe tbody tr th {\n",
              "        vertical-align: top;\n",
              "    }\n",
              "\n",
              "    .dataframe thead th {\n",
              "        text-align: right;\n",
              "    }\n",
              "</style>\n",
              "<table border=\"1\" class=\"dataframe\">\n",
              "  <thead>\n",
              "    <tr style=\"text-align: right;\">\n",
              "      <th></th>\n",
              "      <th>years rochester adele</th>\n",
              "      <th>wife living sir</th>\n",
              "      <th>think know thing</th>\n",
              "      <th>think colonel wickham</th>\n",
              "      <th>bingley miss bennet</th>\n",
              "      <th>madame thought know</th>\n",
              "      <th>mother john elinor</th>\n",
              "      <th>like ingram rochester</th>\n",
              "      <th>harriet weston knightley</th>\n",
              "      <th>know think sister</th>\n",
              "      <th>bennet know lydia</th>\n",
              "      <th>heard eliza day</th>\n",
              "      <th>thought long room</th>\n",
              "      <th>elinor shall come</th>\n",
              "      <th>house like day</th>\n",
              "    </tr>\n",
              "  </thead>\n",
              "  <tbody>\n",
              "    <tr>\n",
              "      <th>Austen_Emma0000</th>\n",
              "      <td>0.0</td>\n",
              "      <td>0.0</td>\n",
              "      <td>0.224528</td>\n",
              "      <td>0.0</td>\n",
              "      <td>0.242441</td>\n",
              "      <td>0.0</td>\n",
              "      <td>0.0</td>\n",
              "      <td>0.0</td>\n",
              "      <td>0.453350</td>\n",
              "      <td>0.077866</td>\n",
              "      <td>0.0</td>\n",
              "      <td>0.0</td>\n",
              "      <td>0.0</td>\n",
              "      <td>0.0</td>\n",
              "      <td>0.0</td>\n",
              "    </tr>\n",
              "    <tr>\n",
              "      <th>Austen_Emma0001</th>\n",
              "      <td>0.0</td>\n",
              "      <td>0.0</td>\n",
              "      <td>0.000000</td>\n",
              "      <td>0.0</td>\n",
              "      <td>0.000000</td>\n",
              "      <td>0.0</td>\n",
              "      <td>0.0</td>\n",
              "      <td>0.0</td>\n",
              "      <td>0.997247</td>\n",
              "      <td>0.000000</td>\n",
              "      <td>0.0</td>\n",
              "      <td>0.0</td>\n",
              "      <td>0.0</td>\n",
              "      <td>0.0</td>\n",
              "      <td>0.0</td>\n",
              "    </tr>\n",
              "    <tr>\n",
              "      <th>Austen_Emma0002</th>\n",
              "      <td>0.0</td>\n",
              "      <td>0.0</td>\n",
              "      <td>0.000000</td>\n",
              "      <td>0.0</td>\n",
              "      <td>0.000000</td>\n",
              "      <td>0.0</td>\n",
              "      <td>0.0</td>\n",
              "      <td>0.0</td>\n",
              "      <td>0.997422</td>\n",
              "      <td>0.000000</td>\n",
              "      <td>0.0</td>\n",
              "      <td>0.0</td>\n",
              "      <td>0.0</td>\n",
              "      <td>0.0</td>\n",
              "      <td>0.0</td>\n",
              "    </tr>\n",
              "    <tr>\n",
              "      <th>Austen_Emma0003</th>\n",
              "      <td>0.0</td>\n",
              "      <td>0.0</td>\n",
              "      <td>0.177979</td>\n",
              "      <td>0.0</td>\n",
              "      <td>0.000000</td>\n",
              "      <td>0.0</td>\n",
              "      <td>0.0</td>\n",
              "      <td>0.0</td>\n",
              "      <td>0.477138</td>\n",
              "      <td>0.342727</td>\n",
              "      <td>0.0</td>\n",
              "      <td>0.0</td>\n",
              "      <td>0.0</td>\n",
              "      <td>0.0</td>\n",
              "      <td>0.0</td>\n",
              "    </tr>\n",
              "    <tr>\n",
              "      <th>Austen_Emma0004</th>\n",
              "      <td>0.0</td>\n",
              "      <td>0.0</td>\n",
              "      <td>0.000000</td>\n",
              "      <td>0.0</td>\n",
              "      <td>0.125666</td>\n",
              "      <td>0.0</td>\n",
              "      <td>0.0</td>\n",
              "      <td>0.0</td>\n",
              "      <td>0.872183</td>\n",
              "      <td>0.000000</td>\n",
              "      <td>0.0</td>\n",
              "      <td>0.0</td>\n",
              "      <td>0.0</td>\n",
              "      <td>0.0</td>\n",
              "      <td>0.0</td>\n",
              "    </tr>\n",
              "  </tbody>\n",
              "</table>\n",
              "</div>"
            ],
            "text/plain": [
              "                 years rochester adele  wife living sir  think know thing  \\\n",
              "Austen_Emma0000                    0.0              0.0          0.224528   \n",
              "Austen_Emma0001                    0.0              0.0          0.000000   \n",
              "Austen_Emma0002                    0.0              0.0          0.000000   \n",
              "Austen_Emma0003                    0.0              0.0          0.177979   \n",
              "Austen_Emma0004                    0.0              0.0          0.000000   \n",
              "\n",
              "                 think colonel wickham  bingley miss bennet  \\\n",
              "Austen_Emma0000                    0.0             0.242441   \n",
              "Austen_Emma0001                    0.0             0.000000   \n",
              "Austen_Emma0002                    0.0             0.000000   \n",
              "Austen_Emma0003                    0.0             0.000000   \n",
              "Austen_Emma0004                    0.0             0.125666   \n",
              "\n",
              "                 madame thought know  mother john elinor  \\\n",
              "Austen_Emma0000                  0.0                 0.0   \n",
              "Austen_Emma0001                  0.0                 0.0   \n",
              "Austen_Emma0002                  0.0                 0.0   \n",
              "Austen_Emma0003                  0.0                 0.0   \n",
              "Austen_Emma0004                  0.0                 0.0   \n",
              "\n",
              "                 like ingram rochester  harriet weston knightley  \\\n",
              "Austen_Emma0000                    0.0                  0.453350   \n",
              "Austen_Emma0001                    0.0                  0.997247   \n",
              "Austen_Emma0002                    0.0                  0.997422   \n",
              "Austen_Emma0003                    0.0                  0.477138   \n",
              "Austen_Emma0004                    0.0                  0.872183   \n",
              "\n",
              "                 know think sister  bennet know lydia  heard eliza day  \\\n",
              "Austen_Emma0000           0.077866                0.0              0.0   \n",
              "Austen_Emma0001           0.000000                0.0              0.0   \n",
              "Austen_Emma0002           0.000000                0.0              0.0   \n",
              "Austen_Emma0003           0.342727                0.0              0.0   \n",
              "Austen_Emma0004           0.000000                0.0              0.0   \n",
              "\n",
              "                 thought long room  elinor shall come  house like day  \n",
              "Austen_Emma0000                0.0                0.0             0.0  \n",
              "Austen_Emma0001                0.0                0.0             0.0  \n",
              "Austen_Emma0002                0.0                0.0             0.0  \n",
              "Austen_Emma0003                0.0                0.0             0.0  \n",
              "Austen_Emma0004                0.0                0.0             0.0  "
            ]
          },
          "metadata": {}
        }
      ],
      "execution_count": 73,
      "metadata": {
        "collapsed": false,
        "outputHidden": false,
        "inputHidden": false
      }
    },
    {
      "cell_type": "code",
      "source": [
        "df['author'] = df.reset_index()['index'].apply(lambda x: x.split('_')[0]).tolist()\n",
        "df['book'] = df.reset_index()['index'].apply(lambda x: x.split('_')[1][:-4]).tolist()\n",
        "df['section'] = df.reset_index()['index'].apply(lambda x: x[-4:]).tolist()\n",
        "df.head()"
      ],
      "outputs": [
        {
          "output_type": "execute_result",
          "execution_count": 74,
          "data": {
            "text/html": [
              "<div>\n",
              "<style scoped>\n",
              "    .dataframe tbody tr th:only-of-type {\n",
              "        vertical-align: middle;\n",
              "    }\n",
              "\n",
              "    .dataframe tbody tr th {\n",
              "        vertical-align: top;\n",
              "    }\n",
              "\n",
              "    .dataframe thead th {\n",
              "        text-align: right;\n",
              "    }\n",
              "</style>\n",
              "<table border=\"1\" class=\"dataframe\">\n",
              "  <thead>\n",
              "    <tr style=\"text-align: right;\">\n",
              "      <th></th>\n",
              "      <th>years rochester adele</th>\n",
              "      <th>wife living sir</th>\n",
              "      <th>think know thing</th>\n",
              "      <th>think colonel wickham</th>\n",
              "      <th>bingley miss bennet</th>\n",
              "      <th>madame thought know</th>\n",
              "      <th>mother john elinor</th>\n",
              "      <th>like ingram rochester</th>\n",
              "      <th>harriet weston knightley</th>\n",
              "      <th>know think sister</th>\n",
              "      <th>bennet know lydia</th>\n",
              "      <th>heard eliza day</th>\n",
              "      <th>thought long room</th>\n",
              "      <th>elinor shall come</th>\n",
              "      <th>house like day</th>\n",
              "      <th>author</th>\n",
              "      <th>book</th>\n",
              "      <th>section</th>\n",
              "    </tr>\n",
              "  </thead>\n",
              "  <tbody>\n",
              "    <tr>\n",
              "      <th>Austen_Emma0000</th>\n",
              "      <td>0.0</td>\n",
              "      <td>0.0</td>\n",
              "      <td>0.224528</td>\n",
              "      <td>0.0</td>\n",
              "      <td>0.242441</td>\n",
              "      <td>0.0</td>\n",
              "      <td>0.0</td>\n",
              "      <td>0.0</td>\n",
              "      <td>0.453350</td>\n",
              "      <td>0.077866</td>\n",
              "      <td>0.0</td>\n",
              "      <td>0.0</td>\n",
              "      <td>0.0</td>\n",
              "      <td>0.0</td>\n",
              "      <td>0.0</td>\n",
              "      <td>Austen</td>\n",
              "      <td>Emma</td>\n",
              "      <td>0000</td>\n",
              "    </tr>\n",
              "    <tr>\n",
              "      <th>Austen_Emma0001</th>\n",
              "      <td>0.0</td>\n",
              "      <td>0.0</td>\n",
              "      <td>0.000000</td>\n",
              "      <td>0.0</td>\n",
              "      <td>0.000000</td>\n",
              "      <td>0.0</td>\n",
              "      <td>0.0</td>\n",
              "      <td>0.0</td>\n",
              "      <td>0.997247</td>\n",
              "      <td>0.000000</td>\n",
              "      <td>0.0</td>\n",
              "      <td>0.0</td>\n",
              "      <td>0.0</td>\n",
              "      <td>0.0</td>\n",
              "      <td>0.0</td>\n",
              "      <td>Austen</td>\n",
              "      <td>Emma</td>\n",
              "      <td>0001</td>\n",
              "    </tr>\n",
              "    <tr>\n",
              "      <th>Austen_Emma0002</th>\n",
              "      <td>0.0</td>\n",
              "      <td>0.0</td>\n",
              "      <td>0.000000</td>\n",
              "      <td>0.0</td>\n",
              "      <td>0.000000</td>\n",
              "      <td>0.0</td>\n",
              "      <td>0.0</td>\n",
              "      <td>0.0</td>\n",
              "      <td>0.997422</td>\n",
              "      <td>0.000000</td>\n",
              "      <td>0.0</td>\n",
              "      <td>0.0</td>\n",
              "      <td>0.0</td>\n",
              "      <td>0.0</td>\n",
              "      <td>0.0</td>\n",
              "      <td>Austen</td>\n",
              "      <td>Emma</td>\n",
              "      <td>0002</td>\n",
              "    </tr>\n",
              "    <tr>\n",
              "      <th>Austen_Emma0003</th>\n",
              "      <td>0.0</td>\n",
              "      <td>0.0</td>\n",
              "      <td>0.177979</td>\n",
              "      <td>0.0</td>\n",
              "      <td>0.000000</td>\n",
              "      <td>0.0</td>\n",
              "      <td>0.0</td>\n",
              "      <td>0.0</td>\n",
              "      <td>0.477138</td>\n",
              "      <td>0.342727</td>\n",
              "      <td>0.0</td>\n",
              "      <td>0.0</td>\n",
              "      <td>0.0</td>\n",
              "      <td>0.0</td>\n",
              "      <td>0.0</td>\n",
              "      <td>Austen</td>\n",
              "      <td>Emma</td>\n",
              "      <td>0003</td>\n",
              "    </tr>\n",
              "    <tr>\n",
              "      <th>Austen_Emma0004</th>\n",
              "      <td>0.0</td>\n",
              "      <td>0.0</td>\n",
              "      <td>0.000000</td>\n",
              "      <td>0.0</td>\n",
              "      <td>0.125666</td>\n",
              "      <td>0.0</td>\n",
              "      <td>0.0</td>\n",
              "      <td>0.0</td>\n",
              "      <td>0.872183</td>\n",
              "      <td>0.000000</td>\n",
              "      <td>0.0</td>\n",
              "      <td>0.0</td>\n",
              "      <td>0.0</td>\n",
              "      <td>0.0</td>\n",
              "      <td>0.0</td>\n",
              "      <td>Austen</td>\n",
              "      <td>Emma</td>\n",
              "      <td>0004</td>\n",
              "    </tr>\n",
              "  </tbody>\n",
              "</table>\n",
              "</div>"
            ],
            "text/plain": [
              "                 years rochester adele  wife living sir  think know thing  \\\n",
              "Austen_Emma0000                    0.0              0.0          0.224528   \n",
              "Austen_Emma0001                    0.0              0.0          0.000000   \n",
              "Austen_Emma0002                    0.0              0.0          0.000000   \n",
              "Austen_Emma0003                    0.0              0.0          0.177979   \n",
              "Austen_Emma0004                    0.0              0.0          0.000000   \n",
              "\n",
              "                 think colonel wickham  bingley miss bennet  \\\n",
              "Austen_Emma0000                    0.0             0.242441   \n",
              "Austen_Emma0001                    0.0             0.000000   \n",
              "Austen_Emma0002                    0.0             0.000000   \n",
              "Austen_Emma0003                    0.0             0.000000   \n",
              "Austen_Emma0004                    0.0             0.125666   \n",
              "\n",
              "                 madame thought know  mother john elinor  \\\n",
              "Austen_Emma0000                  0.0                 0.0   \n",
              "Austen_Emma0001                  0.0                 0.0   \n",
              "Austen_Emma0002                  0.0                 0.0   \n",
              "Austen_Emma0003                  0.0                 0.0   \n",
              "Austen_Emma0004                  0.0                 0.0   \n",
              "\n",
              "                 like ingram rochester  harriet weston knightley  \\\n",
              "Austen_Emma0000                    0.0                  0.453350   \n",
              "Austen_Emma0001                    0.0                  0.997247   \n",
              "Austen_Emma0002                    0.0                  0.997422   \n",
              "Austen_Emma0003                    0.0                  0.477138   \n",
              "Austen_Emma0004                    0.0                  0.872183   \n",
              "\n",
              "                 know think sister  bennet know lydia  heard eliza day  \\\n",
              "Austen_Emma0000           0.077866                0.0              0.0   \n",
              "Austen_Emma0001           0.000000                0.0              0.0   \n",
              "Austen_Emma0002           0.000000                0.0              0.0   \n",
              "Austen_Emma0003           0.342727                0.0              0.0   \n",
              "Austen_Emma0004           0.000000                0.0              0.0   \n",
              "\n",
              "                 thought long room  elinor shall come  house like day  author  \\\n",
              "Austen_Emma0000                0.0                0.0             0.0  Austen   \n",
              "Austen_Emma0001                0.0                0.0             0.0  Austen   \n",
              "Austen_Emma0002                0.0                0.0             0.0  Austen   \n",
              "Austen_Emma0003                0.0                0.0             0.0  Austen   \n",
              "Austen_Emma0004                0.0                0.0             0.0  Austen   \n",
              "\n",
              "                 book section  \n",
              "Austen_Emma0000  Emma    0000  \n",
              "Austen_Emma0001  Emma    0001  \n",
              "Austen_Emma0002  Emma    0002  \n",
              "Austen_Emma0003  Emma    0003  \n",
              "Austen_Emma0004  Emma    0004  "
            ]
          },
          "metadata": {}
        }
      ],
      "execution_count": 74,
      "metadata": {
        "collapsed": false,
        "outputHidden": false,
        "inputHidden": false
      }
    },
    {
      "cell_type": "code",
      "source": [
        "df.describe()"
      ],
      "outputs": [
        {
          "output_type": "execute_result",
          "execution_count": 75,
          "data": {
            "text/html": [
              "<div>\n",
              "<style scoped>\n",
              "    .dataframe tbody tr th:only-of-type {\n",
              "        vertical-align: middle;\n",
              "    }\n",
              "\n",
              "    .dataframe tbody tr th {\n",
              "        vertical-align: top;\n",
              "    }\n",
              "\n",
              "    .dataframe thead th {\n",
              "        text-align: right;\n",
              "    }\n",
              "</style>\n",
              "<table border=\"1\" class=\"dataframe\">\n",
              "  <thead>\n",
              "    <tr style=\"text-align: right;\">\n",
              "      <th></th>\n",
              "      <th>years rochester adele</th>\n",
              "      <th>wife living sir</th>\n",
              "      <th>think know thing</th>\n",
              "      <th>think colonel wickham</th>\n",
              "      <th>bingley miss bennet</th>\n",
              "      <th>madame thought know</th>\n",
              "      <th>mother john elinor</th>\n",
              "      <th>like ingram rochester</th>\n",
              "      <th>harriet weston knightley</th>\n",
              "      <th>know think sister</th>\n",
              "      <th>bennet know lydia</th>\n",
              "      <th>heard eliza day</th>\n",
              "      <th>thought long room</th>\n",
              "      <th>elinor shall come</th>\n",
              "      <th>house like day</th>\n",
              "    </tr>\n",
              "  </thead>\n",
              "  <tbody>\n",
              "    <tr>\n",
              "      <th>count</th>\n",
              "      <td>813.000000</td>\n",
              "      <td>813.000000</td>\n",
              "      <td>813.000000</td>\n",
              "      <td>813.000000</td>\n",
              "      <td>813.000000</td>\n",
              "      <td>813.000000</td>\n",
              "      <td>813.000000</td>\n",
              "      <td>813.000000</td>\n",
              "      <td>813.000000</td>\n",
              "      <td>813.000000</td>\n",
              "      <td>813.000000</td>\n",
              "      <td>813.000000</td>\n",
              "      <td>813.000000</td>\n",
              "      <td>813.000000</td>\n",
              "      <td>813.000000</td>\n",
              "    </tr>\n",
              "    <tr>\n",
              "      <th>mean</th>\n",
              "      <td>0.003044</td>\n",
              "      <td>0.001283</td>\n",
              "      <td>0.014421</td>\n",
              "      <td>0.010870</td>\n",
              "      <td>0.065071</td>\n",
              "      <td>0.155098</td>\n",
              "      <td>0.005907</td>\n",
              "      <td>0.037986</td>\n",
              "      <td>0.145708</td>\n",
              "      <td>0.188003</td>\n",
              "      <td>0.070472</td>\n",
              "      <td>0.007806</td>\n",
              "      <td>0.278250</td>\n",
              "      <td>0.007810</td>\n",
              "      <td>0.005507</td>\n",
              "    </tr>\n",
              "    <tr>\n",
              "      <th>std</th>\n",
              "      <td>0.052194</td>\n",
              "      <td>0.035014</td>\n",
              "      <td>0.096115</td>\n",
              "      <td>0.091922</td>\n",
              "      <td>0.208182</td>\n",
              "      <td>0.281066</td>\n",
              "      <td>0.070760</td>\n",
              "      <td>0.145822</td>\n",
              "      <td>0.324443</td>\n",
              "      <td>0.319548</td>\n",
              "      <td>0.214361</td>\n",
              "      <td>0.079167</td>\n",
              "      <td>0.355732</td>\n",
              "      <td>0.077163</td>\n",
              "      <td>0.071168</td>\n",
              "    </tr>\n",
              "    <tr>\n",
              "      <th>min</th>\n",
              "      <td>0.000000</td>\n",
              "      <td>0.000000</td>\n",
              "      <td>0.000000</td>\n",
              "      <td>0.000000</td>\n",
              "      <td>0.000000</td>\n",
              "      <td>0.000000</td>\n",
              "      <td>0.000000</td>\n",
              "      <td>0.000000</td>\n",
              "      <td>0.000000</td>\n",
              "      <td>0.000000</td>\n",
              "      <td>0.000000</td>\n",
              "      <td>0.000000</td>\n",
              "      <td>0.000000</td>\n",
              "      <td>0.000000</td>\n",
              "      <td>0.000000</td>\n",
              "    </tr>\n",
              "    <tr>\n",
              "      <th>25%</th>\n",
              "      <td>0.000000</td>\n",
              "      <td>0.000000</td>\n",
              "      <td>0.000000</td>\n",
              "      <td>0.000000</td>\n",
              "      <td>0.000000</td>\n",
              "      <td>0.000000</td>\n",
              "      <td>0.000000</td>\n",
              "      <td>0.000000</td>\n",
              "      <td>0.000000</td>\n",
              "      <td>0.000000</td>\n",
              "      <td>0.000000</td>\n",
              "      <td>0.000000</td>\n",
              "      <td>0.000000</td>\n",
              "      <td>0.000000</td>\n",
              "      <td>0.000000</td>\n",
              "    </tr>\n",
              "    <tr>\n",
              "      <th>50%</th>\n",
              "      <td>0.000000</td>\n",
              "      <td>0.000000</td>\n",
              "      <td>0.000000</td>\n",
              "      <td>0.000000</td>\n",
              "      <td>0.000000</td>\n",
              "      <td>0.000000</td>\n",
              "      <td>0.000000</td>\n",
              "      <td>0.000000</td>\n",
              "      <td>0.000000</td>\n",
              "      <td>0.000000</td>\n",
              "      <td>0.000000</td>\n",
              "      <td>0.000000</td>\n",
              "      <td>0.012480</td>\n",
              "      <td>0.000000</td>\n",
              "      <td>0.000000</td>\n",
              "    </tr>\n",
              "    <tr>\n",
              "      <th>75%</th>\n",
              "      <td>0.000000</td>\n",
              "      <td>0.000000</td>\n",
              "      <td>0.000000</td>\n",
              "      <td>0.000000</td>\n",
              "      <td>0.000000</td>\n",
              "      <td>0.194960</td>\n",
              "      <td>0.000000</td>\n",
              "      <td>0.000000</td>\n",
              "      <td>0.000000</td>\n",
              "      <td>0.217176</td>\n",
              "      <td>0.000000</td>\n",
              "      <td>0.000000</td>\n",
              "      <td>0.583615</td>\n",
              "      <td>0.000000</td>\n",
              "      <td>0.000000</td>\n",
              "    </tr>\n",
              "    <tr>\n",
              "      <th>max</th>\n",
              "      <td>0.997498</td>\n",
              "      <td>0.997378</td>\n",
              "      <td>0.997471</td>\n",
              "      <td>0.997295</td>\n",
              "      <td>0.997531</td>\n",
              "      <td>0.997667</td>\n",
              "      <td>0.997655</td>\n",
              "      <td>0.997436</td>\n",
              "      <td>0.997672</td>\n",
              "      <td>0.997762</td>\n",
              "      <td>0.997531</td>\n",
              "      <td>0.997386</td>\n",
              "      <td>0.997767</td>\n",
              "      <td>0.997625</td>\n",
              "      <td>0.997279</td>\n",
              "    </tr>\n",
              "  </tbody>\n",
              "</table>\n",
              "</div>"
            ],
            "text/plain": [
              "       years rochester adele  wife living sir  think know thing  \\\n",
              "count             813.000000       813.000000        813.000000   \n",
              "mean                0.003044         0.001283          0.014421   \n",
              "std                 0.052194         0.035014          0.096115   \n",
              "min                 0.000000         0.000000          0.000000   \n",
              "25%                 0.000000         0.000000          0.000000   \n",
              "50%                 0.000000         0.000000          0.000000   \n",
              "75%                 0.000000         0.000000          0.000000   \n",
              "max                 0.997498         0.997378          0.997471   \n",
              "\n",
              "       think colonel wickham  bingley miss bennet  madame thought know  \\\n",
              "count             813.000000           813.000000           813.000000   \n",
              "mean                0.010870             0.065071             0.155098   \n",
              "std                 0.091922             0.208182             0.281066   \n",
              "min                 0.000000             0.000000             0.000000   \n",
              "25%                 0.000000             0.000000             0.000000   \n",
              "50%                 0.000000             0.000000             0.000000   \n",
              "75%                 0.000000             0.000000             0.194960   \n",
              "max                 0.997295             0.997531             0.997667   \n",
              "\n",
              "       mother john elinor  like ingram rochester  harriet weston knightley  \\\n",
              "count          813.000000             813.000000                813.000000   \n",
              "mean             0.005907               0.037986                  0.145708   \n",
              "std              0.070760               0.145822                  0.324443   \n",
              "min              0.000000               0.000000                  0.000000   \n",
              "25%              0.000000               0.000000                  0.000000   \n",
              "50%              0.000000               0.000000                  0.000000   \n",
              "75%              0.000000               0.000000                  0.000000   \n",
              "max              0.997655               0.997436                  0.997672   \n",
              "\n",
              "       know think sister  bennet know lydia  heard eliza day  \\\n",
              "count         813.000000         813.000000       813.000000   \n",
              "mean            0.188003           0.070472         0.007806   \n",
              "std             0.319548           0.214361         0.079167   \n",
              "min             0.000000           0.000000         0.000000   \n",
              "25%             0.000000           0.000000         0.000000   \n",
              "50%             0.000000           0.000000         0.000000   \n",
              "75%             0.217176           0.000000         0.000000   \n",
              "max             0.997762           0.997531         0.997386   \n",
              "\n",
              "       thought long room  elinor shall come  house like day  \n",
              "count         813.000000         813.000000      813.000000  \n",
              "mean            0.278250           0.007810        0.005507  \n",
              "std             0.355732           0.077163        0.071168  \n",
              "min             0.000000           0.000000        0.000000  \n",
              "25%             0.000000           0.000000        0.000000  \n",
              "50%             0.012480           0.000000        0.000000  \n",
              "75%             0.583615           0.000000        0.000000  \n",
              "max             0.997767           0.997625        0.997279  "
            ]
          },
          "metadata": {}
        }
      ],
      "execution_count": 75,
      "metadata": {
        "collapsed": false,
        "outputHidden": false,
        "inputHidden": false
      }
    },
    {
      "cell_type": "code",
      "source": [
        "author_mean = df.groupby(by=['author']).mean()"
      ],
      "outputs": [],
      "execution_count": 76,
      "metadata": {
        "collapsed": false,
        "outputHidden": false,
        "inputHidden": false
      }
    },
    {
      "cell_type": "code",
      "source": [
        "author_mean"
      ],
      "outputs": [
        {
          "output_type": "execute_result",
          "execution_count": 77,
          "data": {
            "text/html": [
              "<div>\n",
              "<style scoped>\n",
              "    .dataframe tbody tr th:only-of-type {\n",
              "        vertical-align: middle;\n",
              "    }\n",
              "\n",
              "    .dataframe tbody tr th {\n",
              "        vertical-align: top;\n",
              "    }\n",
              "\n",
              "    .dataframe thead th {\n",
              "        text-align: right;\n",
              "    }\n",
              "</style>\n",
              "<table border=\"1\" class=\"dataframe\">\n",
              "  <thead>\n",
              "    <tr style=\"text-align: right;\">\n",
              "      <th></th>\n",
              "      <th>years rochester adele</th>\n",
              "      <th>wife living sir</th>\n",
              "      <th>think know thing</th>\n",
              "      <th>think colonel wickham</th>\n",
              "      <th>bingley miss bennet</th>\n",
              "      <th>madame thought know</th>\n",
              "      <th>mother john elinor</th>\n",
              "      <th>like ingram rochester</th>\n",
              "      <th>harriet weston knightley</th>\n",
              "      <th>know think sister</th>\n",
              "      <th>bennet know lydia</th>\n",
              "      <th>heard eliza day</th>\n",
              "      <th>thought long room</th>\n",
              "      <th>elinor shall come</th>\n",
              "      <th>house like day</th>\n",
              "    </tr>\n",
              "    <tr>\n",
              "      <th>author</th>\n",
              "      <th></th>\n",
              "      <th></th>\n",
              "      <th></th>\n",
              "      <th></th>\n",
              "      <th></th>\n",
              "      <th></th>\n",
              "      <th></th>\n",
              "      <th></th>\n",
              "      <th></th>\n",
              "      <th></th>\n",
              "      <th></th>\n",
              "      <th></th>\n",
              "      <th></th>\n",
              "      <th></th>\n",
              "      <th></th>\n",
              "    </tr>\n",
              "  </thead>\n",
              "  <tbody>\n",
              "    <tr>\n",
              "      <th>Austen</th>\n",
              "      <td>0.000000</td>\n",
              "      <td>0.000000</td>\n",
              "      <td>0.029317</td>\n",
              "      <td>0.023416</td>\n",
              "      <td>0.137172</td>\n",
              "      <td>0.001817</td>\n",
              "      <td>0.007148</td>\n",
              "      <td>0.002057</td>\n",
              "      <td>0.313899</td>\n",
              "      <td>0.316756</td>\n",
              "      <td>0.143855</td>\n",
              "      <td>0.00000</td>\n",
              "      <td>0.010486</td>\n",
              "      <td>0.010214</td>\n",
              "      <td>0.001125</td>\n",
              "    </tr>\n",
              "    <tr>\n",
              "      <th>CBronte</th>\n",
              "      <td>0.005611</td>\n",
              "      <td>0.002365</td>\n",
              "      <td>0.001856</td>\n",
              "      <td>0.000287</td>\n",
              "      <td>0.004251</td>\n",
              "      <td>0.284396</td>\n",
              "      <td>0.004860</td>\n",
              "      <td>0.068294</td>\n",
              "      <td>0.003832</td>\n",
              "      <td>0.079395</td>\n",
              "      <td>0.008571</td>\n",
              "      <td>0.01439</td>\n",
              "      <td>0.504119</td>\n",
              "      <td>0.005783</td>\n",
              "      <td>0.009204</td>\n",
              "    </tr>\n",
              "  </tbody>\n",
              "</table>\n",
              "</div>"
            ],
            "text/plain": [
              "         years rochester adele  wife living sir  think know thing  \\\n",
              "author                                                              \n",
              "Austen                0.000000         0.000000          0.029317   \n",
              "CBronte               0.005611         0.002365          0.001856   \n",
              "\n",
              "         think colonel wickham  bingley miss bennet  madame thought know  \\\n",
              "author                                                                     \n",
              "Austen                0.023416             0.137172             0.001817   \n",
              "CBronte               0.000287             0.004251             0.284396   \n",
              "\n",
              "         mother john elinor  like ingram rochester  harriet weston knightley  \\\n",
              "author                                                                         \n",
              "Austen             0.007148               0.002057                  0.313899   \n",
              "CBronte            0.004860               0.068294                  0.003832   \n",
              "\n",
              "         know think sister  bennet know lydia  heard eliza day  \\\n",
              "author                                                           \n",
              "Austen            0.316756           0.143855          0.00000   \n",
              "CBronte           0.079395           0.008571          0.01439   \n",
              "\n",
              "         thought long room  elinor shall come  house like day  \n",
              "author                                                         \n",
              "Austen            0.010486           0.010214        0.001125  \n",
              "CBronte           0.504119           0.005783        0.009204  "
            ]
          },
          "metadata": {}
        }
      ],
      "execution_count": 77,
      "metadata": {
        "collapsed": false,
        "outputHidden": false,
        "inputHidden": false
      }
    },
    {
      "cell_type": "code",
      "source": [
        "#CBronte's big topic\n",
        "lda.show_topic(12)"
      ],
      "outputs": [
        {
          "output_type": "execute_result",
          "execution_count": 35,
          "data": {
            "text/plain": [
              "[('like', 0.0072644744),\n",
              " ('night', 0.0049664956),\n",
              " ('thought', 0.0048304982),\n",
              " ('long', 0.0046967305),\n",
              " ('room', 0.004392841),\n",
              " ('come', 0.004066149),\n",
              " ('day', 0.0038081058),\n",
              " ('door', 0.0037465198),\n",
              " ('eyes', 0.003669961),\n",
              " ('saw', 0.003612934)]"
            ]
          },
          "metadata": {}
        }
      ],
      "execution_count": 35,
      "metadata": {
        "collapsed": false,
        "outputHidden": false,
        "inputHidden": false
      }
    },
    {
      "cell_type": "markdown",
      "source": [
        "## Making a Prediction on an unseen document"
      ],
      "metadata": {
        "collapsed": false,
        "outputHidden": false,
        "inputHidden": false
      }
    },
    {
      "cell_type": "code",
      "source": [
        "tokens = \"like night though long ed the world room come day door eyes saw\".split()\n",
        "bow = id2word.doc2bow(tokens)"
      ],
      "outputs": [],
      "execution_count": 36,
      "metadata": {
        "collapsed": false,
        "outputHidden": false,
        "inputHidden": false
      }
    },
    {
      "cell_type": "code",
      "source": [
        "lda[bow]"
      ],
      "outputs": [
        {
          "output_type": "execute_result",
          "execution_count": 39,
          "data": {
            "text/plain": [
              "[(12, 0.91515136)]"
            ]
          },
          "metadata": {}
        }
      ],
      "execution_count": 39,
      "metadata": {
        "collapsed": false,
        "outputHidden": false,
        "inputHidden": false
      }
    },
    {
      "cell_type": "markdown",
      "source": [
        "## Resources\n",
        "\n",
        "* [Gensim](https://radimrehurek.com/gensim/): Python package for topic modeling, nlp, word vectorization, and few other things. Well maintained and well documented.\n",
        "* [Topic Modeling with Gensim](http://www.machinelearningplus.com/nlp/topic-modeling-gensim-python/#11createthedictionaryandcorpusneededfortopicmodeling): A kind of cookbook for LDA with gensim. Excellent overview, but the you need to be aware of missing import statements and assumed prior knowledge.\n",
        "* [Chinese Restuarant Process](https://en.wikipedia.org/wiki/Chinese_restaurant_process): That really obscure stats thing I mentioned... \n",
        "* [PyLDAvis](https://github.com/bmabey/pyLDAvis): Library for visualizing the topic model and performing some exploratory work. Works well. Has a direct parrell implementation in R as well. \n",
        "* [Rare Technologies](https://rare-technologies.com/): The people that made & maintain gensim and a few other libraries.\n",
        "* [Jane Austen v. Charlotte Bronte](https://www.literaryladiesguide.com/literary-musings/jane-austen-charlotte-bronte-different-alike/)"
      ],
      "metadata": {}
    }
  ],
  "metadata": {
    "kernel_info": {
      "name": "python3"
    },
    "language_info": {
      "file_extension": ".py",
      "name": "python",
      "nbconvert_exporter": "python",
      "pygments_lexer": "ipython3",
      "version": "3.5.5",
      "mimetype": "text/x-python",
      "codemirror_mode": {
        "name": "ipython",
        "version": 3
      }
    },
    "kernelspec": {
      "name": "python3",
      "language": "python",
      "display_name": "Python 3"
    },
    "nteract": {
      "version": "0.11.6"
    }
  },
  "nbformat": 4,
  "nbformat_minor": 4
}